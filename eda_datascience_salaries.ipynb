{
 "cells": [
  {
   "cell_type": "markdown",
   "metadata": {},
   "source": [
    "# **DATA SCIENCE SALARIES 2023**\n",
    " **COMPLETE EXPLORATORY DATA ANALYSIS**"
   ]
  },
  {
   "cell_type": "markdown",
   "metadata": {},
   "source": [
    "### **About Dataset**\n",
    "\n",
    "- **`Description`**\n",
    "- > The Data Set was downloaded from Kaggle, from the following [link](https://www.kaggle.com/datasets/arnabchaki/data-science-salaries-2023/data/)\n",
    "\n",
    "- `Context`\n",
    "This dataset contains detailed information about data scientists' salaries, including various attributes such as job titles, experience levels, employment types, and geographic information. The goal is to analyze the salary trends and factors influencing the salaries of data scientists across different regions and companies.\n",
    "\n",
    "- `Content`\n",
    "Each (row) has values for job catergory, work years, experience,salary and more.\n",
    "\n",
    "- `Acknowledgements`\n",
    "This information is scraped from the different AIsources."
   ]
  },
  {
   "cell_type": "markdown",
   "metadata": {},
   "source": [
    "# **Dataset Columns**:\n",
    "- `Work_year`: The year the salary was reported.\n",
    "- `Experience_level`: The level of experience (e.g., SE for Senior, MI for Mid-level, EN for Entry-level, etc.).\n",
    "- `Employment_type`: The type of employment (e.g., FT for Full-time, PT for Part-time, CT for Contract time, FL for Freelance).\n",
    "- `Job_title`: The job title (e.g., Data Scientist, ML Engineer, etc.).\n",
    "- `Salary`: The reported salary in the specified currency.\n",
    "- `Salary_currency`: The currency in which the salary is paid.\n",
    "- `Salary_in_usd`: The salary converted to USD for standardization.\n",
    "- `Employee_residence`: The country where the employee resides.\n",
    "- `Remote_ratio`: The percentage of remote work (0 for on-site, 50 for hybrid, 100 for fully remote).\n",
    "- `Company_location`: The location of the company.\n",
    "- `Company_size`: The size of the company (S for Small, M for Medium, L for Large)"
   ]
  },
  {
   "cell_type": "markdown",
   "metadata": {},
   "source": [
    "# **Importing Libraries.**"
   ]
  },
  {
   "cell_type": "code",
   "execution_count": 1,
   "metadata": {},
   "outputs": [],
   "source": [
    "import pandas as pd \n",
    "import seaborn as sns\n",
    "import matplotlib.pyplot as plt\n",
    "import numpy as np\n",
    "import pycountry\n",
    "import plotly.express as px"
   ]
  },
  {
   "cell_type": "markdown",
   "metadata": {},
   "source": [
    "## 2. **Data Loading and exploration and cleaning**\n",
    " ↪ Load the csv file with the pandas\n",
    " \n",
    " ↪ creating the dataframe and understanding the data present in the dataset using pandas\n",
    " \n",
    " ↪ Dealing with the missing data, outliers and the incorrect records"
   ]
  },
  {
   "cell_type": "code",
   "execution_count": 2,
   "metadata": {},
   "outputs": [],
   "source": [
    "df=pd.read_csv('./ds_salaries.csv')"
   ]
  },
  {
   "cell_type": "markdown",
   "metadata": {},
   "source": [
    "- Viewing the first five Rows of the data"
   ]
  },
  {
   "cell_type": "code",
   "execution_count": 3,
   "metadata": {},
   "outputs": [
    {
     "data": {
      "text/html": [
       "<div>\n",
       "<style scoped>\n",
       "    .dataframe tbody tr th:only-of-type {\n",
       "        vertical-align: middle;\n",
       "    }\n",
       "\n",
       "    .dataframe tbody tr th {\n",
       "        vertical-align: top;\n",
       "    }\n",
       "\n",
       "    .dataframe thead th {\n",
       "        text-align: right;\n",
       "    }\n",
       "</style>\n",
       "<table border=\"1\" class=\"dataframe\">\n",
       "  <thead>\n",
       "    <tr style=\"text-align: right;\">\n",
       "      <th></th>\n",
       "      <th>work_year</th>\n",
       "      <th>experience_level</th>\n",
       "      <th>employment_type</th>\n",
       "      <th>job_title</th>\n",
       "      <th>salary</th>\n",
       "      <th>salary_currency</th>\n",
       "      <th>salary_in_usd</th>\n",
       "      <th>employee_residence</th>\n",
       "      <th>remote_ratio</th>\n",
       "      <th>company_location</th>\n",
       "      <th>company_size</th>\n",
       "    </tr>\n",
       "  </thead>\n",
       "  <tbody>\n",
       "    <tr>\n",
       "      <th>0</th>\n",
       "      <td>2023</td>\n",
       "      <td>SE</td>\n",
       "      <td>FT</td>\n",
       "      <td>Principal Data Scientist</td>\n",
       "      <td>80000</td>\n",
       "      <td>EUR</td>\n",
       "      <td>85847</td>\n",
       "      <td>ES</td>\n",
       "      <td>100</td>\n",
       "      <td>ES</td>\n",
       "      <td>L</td>\n",
       "    </tr>\n",
       "    <tr>\n",
       "      <th>1</th>\n",
       "      <td>2023</td>\n",
       "      <td>MI</td>\n",
       "      <td>CT</td>\n",
       "      <td>ML Engineer</td>\n",
       "      <td>30000</td>\n",
       "      <td>USD</td>\n",
       "      <td>30000</td>\n",
       "      <td>US</td>\n",
       "      <td>100</td>\n",
       "      <td>US</td>\n",
       "      <td>S</td>\n",
       "    </tr>\n",
       "    <tr>\n",
       "      <th>2</th>\n",
       "      <td>2023</td>\n",
       "      <td>MI</td>\n",
       "      <td>CT</td>\n",
       "      <td>ML Engineer</td>\n",
       "      <td>25500</td>\n",
       "      <td>USD</td>\n",
       "      <td>25500</td>\n",
       "      <td>US</td>\n",
       "      <td>100</td>\n",
       "      <td>US</td>\n",
       "      <td>S</td>\n",
       "    </tr>\n",
       "    <tr>\n",
       "      <th>3</th>\n",
       "      <td>2023</td>\n",
       "      <td>SE</td>\n",
       "      <td>FT</td>\n",
       "      <td>Data Scientist</td>\n",
       "      <td>175000</td>\n",
       "      <td>USD</td>\n",
       "      <td>175000</td>\n",
       "      <td>CA</td>\n",
       "      <td>100</td>\n",
       "      <td>CA</td>\n",
       "      <td>M</td>\n",
       "    </tr>\n",
       "    <tr>\n",
       "      <th>4</th>\n",
       "      <td>2023</td>\n",
       "      <td>SE</td>\n",
       "      <td>FT</td>\n",
       "      <td>Data Scientist</td>\n",
       "      <td>120000</td>\n",
       "      <td>USD</td>\n",
       "      <td>120000</td>\n",
       "      <td>CA</td>\n",
       "      <td>100</td>\n",
       "      <td>CA</td>\n",
       "      <td>M</td>\n",
       "    </tr>\n",
       "  </tbody>\n",
       "</table>\n",
       "</div>"
      ],
      "text/plain": [
       "   work_year experience_level employment_type                 job_title  \\\n",
       "0       2023               SE              FT  Principal Data Scientist   \n",
       "1       2023               MI              CT               ML Engineer   \n",
       "2       2023               MI              CT               ML Engineer   \n",
       "3       2023               SE              FT            Data Scientist   \n",
       "4       2023               SE              FT            Data Scientist   \n",
       "\n",
       "   salary salary_currency  salary_in_usd employee_residence  remote_ratio  \\\n",
       "0   80000             EUR          85847                 ES           100   \n",
       "1   30000             USD          30000                 US           100   \n",
       "2   25500             USD          25500                 US           100   \n",
       "3  175000             USD         175000                 CA           100   \n",
       "4  120000             USD         120000                 CA           100   \n",
       "\n",
       "  company_location company_size  \n",
       "0               ES            L  \n",
       "1               US            S  \n",
       "2               US            S  \n",
       "3               CA            M  \n",
       "4               CA            M  "
      ]
     },
     "execution_count": 3,
     "metadata": {},
     "output_type": "execute_result"
    }
   ],
   "source": [
    "df.head(5)"
   ]
  },
  {
   "cell_type": "code",
   "execution_count": 4,
   "metadata": {},
   "outputs": [],
   "source": [
    "pd.set_option('display.max_columns', None) # this is to display all the columns in the dataframe\n",
    "pd.set_option('display.max_rows', None) # this is to display all the rows in the dataframe"
   ]
  },
  {
   "cell_type": "code",
   "execution_count": 5,
   "metadata": {},
   "outputs": [],
   "source": [
    "# hide all warnings runtime\n",
    "import warnings\n",
    "warnings.filterwarnings('ignore')"
   ]
  },
  {
   "cell_type": "markdown",
   "metadata": {},
   "source": [
    "- let's see the exact column names which can be easily copied later on from Data Science salaries Dataset"
   ]
  },
  {
   "cell_type": "code",
   "execution_count": 6,
   "metadata": {},
   "outputs": [
    {
     "data": {
      "text/plain": [
       "Index(['work_year', 'experience_level', 'employment_type', 'job_title',\n",
       "       'salary', 'salary_currency', 'salary_in_usd', 'employee_residence',\n",
       "       'remote_ratio', 'company_location', 'company_size'],\n",
       "      dtype='object')"
      ]
     },
     "execution_count": 6,
     "metadata": {},
     "output_type": "execute_result"
    }
   ],
   "source": [
    "df.columns"
   ]
  },
  {
   "cell_type": "markdown",
   "metadata": {},
   "source": [
    "- lets have a look on the shape of dataset."
   ]
  },
  {
   "cell_type": "code",
   "execution_count": 7,
   "metadata": {},
   "outputs": [
    {
     "data": {
      "text/plain": [
       "(3755, 11)"
      ]
     },
     "execution_count": 7,
     "metadata": {},
     "output_type": "execute_result"
    }
   ],
   "source": [
    "df.shape"
   ]
  },
  {
   "cell_type": "markdown",
   "metadata": {},
   "source": [
    "- Not enough, let's have a look on the columns and their data types using detailed info function."
   ]
  },
  {
   "cell_type": "code",
   "execution_count": 8,
   "metadata": {},
   "outputs": [
    {
     "name": "stdout",
     "output_type": "stream",
     "text": [
      "<class 'pandas.core.frame.DataFrame'>\n",
      "RangeIndex: 3755 entries, 0 to 3754\n",
      "Data columns (total 11 columns):\n",
      " #   Column              Non-Null Count  Dtype \n",
      "---  ------              --------------  ----- \n",
      " 0   work_year           3755 non-null   int64 \n",
      " 1   experience_level    3755 non-null   object\n",
      " 2   employment_type     3755 non-null   object\n",
      " 3   job_title           3755 non-null   object\n",
      " 4   salary              3755 non-null   int64 \n",
      " 5   salary_currency     3755 non-null   object\n",
      " 6   salary_in_usd       3755 non-null   int64 \n",
      " 7   employee_residence  3755 non-null   object\n",
      " 8   remote_ratio        3755 non-null   int64 \n",
      " 9   company_location    3755 non-null   object\n",
      " 10  company_size        3755 non-null   object\n",
      "dtypes: int64(4), object(7)\n",
      "memory usage: 322.8+ KB\n"
     ]
    }
   ],
   "source": [
    "df.info()"
   ]
  },
  {
   "cell_type": "markdown",
   "metadata": {},
   "source": [
    "### **Observations**\n",
    "---\n",
    "1. There are 3755 rows and 11 columns in the dataset\n",
    "2. The columns are of different data types\n",
    "3. The columns in the datasets are:\n",
    "   - `'work_year', 'experience_level', 'employment_level', 'job_title', 'salary', 'salary_currency', 'salary_in_usd',\n",
    "       'employee_residence', 'remote_ratio', 'company_location', 'company_size',`\n",
    "4. There is no missing values in the dataset."
   ]
  },
  {
   "cell_type": "code",
   "execution_count": 9,
   "metadata": {},
   "outputs": [
    {
     "data": {
      "text/html": [
       "<div>\n",
       "<style scoped>\n",
       "    .dataframe tbody tr th:only-of-type {\n",
       "        vertical-align: middle;\n",
       "    }\n",
       "\n",
       "    .dataframe tbody tr th {\n",
       "        vertical-align: top;\n",
       "    }\n",
       "\n",
       "    .dataframe thead th {\n",
       "        text-align: right;\n",
       "    }\n",
       "</style>\n",
       "<table border=\"1\" class=\"dataframe\">\n",
       "  <thead>\n",
       "    <tr style=\"text-align: right;\">\n",
       "      <th></th>\n",
       "      <th>work_year</th>\n",
       "      <th>salary</th>\n",
       "      <th>salary_in_usd</th>\n",
       "      <th>remote_ratio</th>\n",
       "    </tr>\n",
       "  </thead>\n",
       "  <tbody>\n",
       "    <tr>\n",
       "      <th>count</th>\n",
       "      <td>3755.000000</td>\n",
       "      <td>3.755000e+03</td>\n",
       "      <td>3755.000000</td>\n",
       "      <td>3755.000000</td>\n",
       "    </tr>\n",
       "    <tr>\n",
       "      <th>mean</th>\n",
       "      <td>2022.373635</td>\n",
       "      <td>1.906956e+05</td>\n",
       "      <td>137570.389880</td>\n",
       "      <td>46.271638</td>\n",
       "    </tr>\n",
       "    <tr>\n",
       "      <th>std</th>\n",
       "      <td>0.691448</td>\n",
       "      <td>6.716765e+05</td>\n",
       "      <td>63055.625278</td>\n",
       "      <td>48.589050</td>\n",
       "    </tr>\n",
       "    <tr>\n",
       "      <th>min</th>\n",
       "      <td>2020.000000</td>\n",
       "      <td>6.000000e+03</td>\n",
       "      <td>5132.000000</td>\n",
       "      <td>0.000000</td>\n",
       "    </tr>\n",
       "    <tr>\n",
       "      <th>25%</th>\n",
       "      <td>2022.000000</td>\n",
       "      <td>1.000000e+05</td>\n",
       "      <td>95000.000000</td>\n",
       "      <td>0.000000</td>\n",
       "    </tr>\n",
       "    <tr>\n",
       "      <th>50%</th>\n",
       "      <td>2022.000000</td>\n",
       "      <td>1.380000e+05</td>\n",
       "      <td>135000.000000</td>\n",
       "      <td>0.000000</td>\n",
       "    </tr>\n",
       "    <tr>\n",
       "      <th>75%</th>\n",
       "      <td>2023.000000</td>\n",
       "      <td>1.800000e+05</td>\n",
       "      <td>175000.000000</td>\n",
       "      <td>100.000000</td>\n",
       "    </tr>\n",
       "    <tr>\n",
       "      <th>max</th>\n",
       "      <td>2023.000000</td>\n",
       "      <td>3.040000e+07</td>\n",
       "      <td>450000.000000</td>\n",
       "      <td>100.000000</td>\n",
       "    </tr>\n",
       "  </tbody>\n",
       "</table>\n",
       "</div>"
      ],
      "text/plain": [
       "         work_year        salary  salary_in_usd  remote_ratio\n",
       "count  3755.000000  3.755000e+03    3755.000000   3755.000000\n",
       "mean   2022.373635  1.906956e+05  137570.389880     46.271638\n",
       "std       0.691448  6.716765e+05   63055.625278     48.589050\n",
       "min    2020.000000  6.000000e+03    5132.000000      0.000000\n",
       "25%    2022.000000  1.000000e+05   95000.000000      0.000000\n",
       "50%    2022.000000  1.380000e+05  135000.000000      0.000000\n",
       "75%    2023.000000  1.800000e+05  175000.000000    100.000000\n",
       "max    2023.000000  3.040000e+07  450000.000000    100.000000"
      ]
     },
     "execution_count": 9,
     "metadata": {},
     "output_type": "execute_result"
    }
   ],
   "source": [
    "df.describe()"
   ]
  },
  {
   "cell_type": "markdown",
   "metadata": {},
   "source": [
    "### **Observations:**\n",
    "---\n",
    "- We have only 2 columns as object data type, (according to python), but we can see that `'experience_level', 'company_level'` are also numeric, we must convert them to numeric data type in data wrangling process.\n",
    "---"
   ]
  },
  {
   "cell_type": "markdown",
   "metadata": {},
   "source": [
    "# **Let's clean the Data**"
   ]
  },
  {
   "cell_type": "code",
   "execution_count": 10,
   "metadata": {},
   "outputs": [
    {
     "data": {
      "text/plain": [
       "np.int64(1171)"
      ]
     },
     "execution_count": 10,
     "metadata": {},
     "output_type": "execute_result"
    }
   ],
   "source": [
    "#check for duplicate values\n",
    "df.duplicated().sum()"
   ]
  },
  {
   "cell_type": "code",
   "execution_count": 11,
   "metadata": {},
   "outputs": [
    {
     "data": {
      "text/plain": [
       "(2584, 11)"
      ]
     },
     "execution_count": 11,
     "metadata": {},
     "output_type": "execute_result"
    }
   ],
   "source": [
    "# drop the duplicate values \n",
    "df1= df.drop_duplicates()\n",
    "df1.reset_index(drop=True, inplace=True)\n",
    "df1.shape"
   ]
  },
  {
   "cell_type": "markdown",
   "metadata": {},
   "source": [
    "- **There are 3755 rows and 11 columns before dropping duplicate values.**\n",
    "- **Now , there are 2584 rows and 11 columns after dropping duplicate values.**\n",
    "- **There are 1171 duplicate values which are removed.**"
   ]
  },
  {
   "cell_type": "code",
   "execution_count": 12,
   "metadata": {},
   "outputs": [
    {
     "data": {
      "text/plain": [
       "work_year             0\n",
       "experience_level      0\n",
       "employment_type       0\n",
       "job_title             0\n",
       "salary                0\n",
       "salary_currency       0\n",
       "salary_in_usd         0\n",
       "employee_residence    0\n",
       "remote_ratio          0\n",
       "company_location      0\n",
       "company_size          0\n",
       "dtype: int64"
      ]
     },
     "execution_count": 12,
     "metadata": {},
     "output_type": "execute_result"
    }
   ],
   "source": [
    "#checking the null values\n",
    "df.isnull().sum()"
   ]
  },
  {
   "cell_type": "markdown",
   "metadata": {},
   "source": [
    "- **No null values, this is good**."
   ]
  },
  {
   "cell_type": "code",
   "execution_count": 13,
   "metadata": {},
   "outputs": [
    {
     "data": {
      "text/html": [
       "<div>\n",
       "<style scoped>\n",
       "    .dataframe tbody tr th:only-of-type {\n",
       "        vertical-align: middle;\n",
       "    }\n",
       "\n",
       "    .dataframe tbody tr th {\n",
       "        vertical-align: top;\n",
       "    }\n",
       "\n",
       "    .dataframe thead th {\n",
       "        text-align: right;\n",
       "    }\n",
       "</style>\n",
       "<table border=\"1\" class=\"dataframe\">\n",
       "  <thead>\n",
       "    <tr style=\"text-align: right;\">\n",
       "      <th></th>\n",
       "      <th>count</th>\n",
       "      <th>unique</th>\n",
       "      <th>top</th>\n",
       "      <th>freq</th>\n",
       "      <th>mean</th>\n",
       "      <th>std</th>\n",
       "      <th>min</th>\n",
       "      <th>25%</th>\n",
       "      <th>50%</th>\n",
       "      <th>75%</th>\n",
       "      <th>max</th>\n",
       "    </tr>\n",
       "  </thead>\n",
       "  <tbody>\n",
       "    <tr>\n",
       "      <th>work_year</th>\n",
       "      <td>2584.0</td>\n",
       "      <td>NaN</td>\n",
       "      <td>NaN</td>\n",
       "      <td>NaN</td>\n",
       "      <td>2022.301084</td>\n",
       "      <td>0.749179</td>\n",
       "      <td>2020.0</td>\n",
       "      <td>2022.0</td>\n",
       "      <td>2022.0</td>\n",
       "      <td>2023.0</td>\n",
       "      <td>2023.0</td>\n",
       "    </tr>\n",
       "    <tr>\n",
       "      <th>experience_level</th>\n",
       "      <td>2584</td>\n",
       "      <td>4</td>\n",
       "      <td>SE</td>\n",
       "      <td>1554</td>\n",
       "      <td>NaN</td>\n",
       "      <td>NaN</td>\n",
       "      <td>NaN</td>\n",
       "      <td>NaN</td>\n",
       "      <td>NaN</td>\n",
       "      <td>NaN</td>\n",
       "      <td>NaN</td>\n",
       "    </tr>\n",
       "    <tr>\n",
       "      <th>employment_type</th>\n",
       "      <td>2584</td>\n",
       "      <td>4</td>\n",
       "      <td>FT</td>\n",
       "      <td>2547</td>\n",
       "      <td>NaN</td>\n",
       "      <td>NaN</td>\n",
       "      <td>NaN</td>\n",
       "      <td>NaN</td>\n",
       "      <td>NaN</td>\n",
       "      <td>NaN</td>\n",
       "      <td>NaN</td>\n",
       "    </tr>\n",
       "    <tr>\n",
       "      <th>job_title</th>\n",
       "      <td>2584</td>\n",
       "      <td>93</td>\n",
       "      <td>Data Engineer</td>\n",
       "      <td>598</td>\n",
       "      <td>NaN</td>\n",
       "      <td>NaN</td>\n",
       "      <td>NaN</td>\n",
       "      <td>NaN</td>\n",
       "      <td>NaN</td>\n",
       "      <td>NaN</td>\n",
       "      <td>NaN</td>\n",
       "    </tr>\n",
       "    <tr>\n",
       "      <th>salary</th>\n",
       "      <td>2584.0</td>\n",
       "      <td>NaN</td>\n",
       "      <td>NaN</td>\n",
       "      <td>NaN</td>\n",
       "      <td>210365.29644</td>\n",
       "      <td>808037.535609</td>\n",
       "      <td>6000.0</td>\n",
       "      <td>90000.0</td>\n",
       "      <td>134630.0</td>\n",
       "      <td>182562.5</td>\n",
       "      <td>30400000.0</td>\n",
       "    </tr>\n",
       "    <tr>\n",
       "      <th>salary_currency</th>\n",
       "      <td>2584</td>\n",
       "      <td>20</td>\n",
       "      <td>USD</td>\n",
       "      <td>2107</td>\n",
       "      <td>NaN</td>\n",
       "      <td>NaN</td>\n",
       "      <td>NaN</td>\n",
       "      <td>NaN</td>\n",
       "      <td>NaN</td>\n",
       "      <td>NaN</td>\n",
       "      <td>NaN</td>\n",
       "    </tr>\n",
       "    <tr>\n",
       "      <th>salary_in_usd</th>\n",
       "      <td>2584.0</td>\n",
       "      <td>NaN</td>\n",
       "      <td>NaN</td>\n",
       "      <td>NaN</td>\n",
       "      <td>133409.280186</td>\n",
       "      <td>67136.837329</td>\n",
       "      <td>5132.0</td>\n",
       "      <td>84975.0</td>\n",
       "      <td>130000.0</td>\n",
       "      <td>175000.0</td>\n",
       "      <td>450000.0</td>\n",
       "    </tr>\n",
       "    <tr>\n",
       "      <th>employee_residence</th>\n",
       "      <td>2584</td>\n",
       "      <td>78</td>\n",
       "      <td>US</td>\n",
       "      <td>1893</td>\n",
       "      <td>NaN</td>\n",
       "      <td>NaN</td>\n",
       "      <td>NaN</td>\n",
       "      <td>NaN</td>\n",
       "      <td>NaN</td>\n",
       "      <td>NaN</td>\n",
       "      <td>NaN</td>\n",
       "    </tr>\n",
       "    <tr>\n",
       "      <th>remote_ratio</th>\n",
       "      <td>2584.0</td>\n",
       "      <td>NaN</td>\n",
       "      <td>NaN</td>\n",
       "      <td>NaN</td>\n",
       "      <td>50.483746</td>\n",
       "      <td>48.163707</td>\n",
       "      <td>0.0</td>\n",
       "      <td>0.0</td>\n",
       "      <td>50.0</td>\n",
       "      <td>100.0</td>\n",
       "      <td>100.0</td>\n",
       "    </tr>\n",
       "    <tr>\n",
       "      <th>company_location</th>\n",
       "      <td>2584</td>\n",
       "      <td>72</td>\n",
       "      <td>US</td>\n",
       "      <td>1929</td>\n",
       "      <td>NaN</td>\n",
       "      <td>NaN</td>\n",
       "      <td>NaN</td>\n",
       "      <td>NaN</td>\n",
       "      <td>NaN</td>\n",
       "      <td>NaN</td>\n",
       "      <td>NaN</td>\n",
       "    </tr>\n",
       "    <tr>\n",
       "      <th>company_size</th>\n",
       "      <td>2584</td>\n",
       "      <td>3</td>\n",
       "      <td>M</td>\n",
       "      <td>2028</td>\n",
       "      <td>NaN</td>\n",
       "      <td>NaN</td>\n",
       "      <td>NaN</td>\n",
       "      <td>NaN</td>\n",
       "      <td>NaN</td>\n",
       "      <td>NaN</td>\n",
       "      <td>NaN</td>\n",
       "    </tr>\n",
       "  </tbody>\n",
       "</table>\n",
       "</div>"
      ],
      "text/plain": [
       "                     count unique            top  freq           mean  \\\n",
       "work_year           2584.0    NaN            NaN   NaN    2022.301084   \n",
       "experience_level      2584      4             SE  1554            NaN   \n",
       "employment_type       2584      4             FT  2547            NaN   \n",
       "job_title             2584     93  Data Engineer   598            NaN   \n",
       "salary              2584.0    NaN            NaN   NaN   210365.29644   \n",
       "salary_currency       2584     20            USD  2107            NaN   \n",
       "salary_in_usd       2584.0    NaN            NaN   NaN  133409.280186   \n",
       "employee_residence    2584     78             US  1893            NaN   \n",
       "remote_ratio        2584.0    NaN            NaN   NaN      50.483746   \n",
       "company_location      2584     72             US  1929            NaN   \n",
       "company_size          2584      3              M  2028            NaN   \n",
       "\n",
       "                              std     min      25%       50%       75%  \\\n",
       "work_year                0.749179  2020.0   2022.0    2022.0    2023.0   \n",
       "experience_level              NaN     NaN      NaN       NaN       NaN   \n",
       "employment_type               NaN     NaN      NaN       NaN       NaN   \n",
       "job_title                     NaN     NaN      NaN       NaN       NaN   \n",
       "salary              808037.535609  6000.0  90000.0  134630.0  182562.5   \n",
       "salary_currency               NaN     NaN      NaN       NaN       NaN   \n",
       "salary_in_usd        67136.837329  5132.0  84975.0  130000.0  175000.0   \n",
       "employee_residence            NaN     NaN      NaN       NaN       NaN   \n",
       "remote_ratio            48.163707     0.0      0.0      50.0     100.0   \n",
       "company_location              NaN     NaN      NaN       NaN       NaN   \n",
       "company_size                  NaN     NaN      NaN       NaN       NaN   \n",
       "\n",
       "                           max  \n",
       "work_year               2023.0  \n",
       "experience_level           NaN  \n",
       "employment_type            NaN  \n",
       "job_title                  NaN  \n",
       "salary              30400000.0  \n",
       "salary_currency            NaN  \n",
       "salary_in_usd         450000.0  \n",
       "employee_residence         NaN  \n",
       "remote_ratio             100.0  \n",
       "company_location           NaN  \n",
       "company_size               NaN  "
      ]
     },
     "execution_count": 13,
     "metadata": {},
     "output_type": "execute_result"
    }
   ],
   "source": [
    "#Now describe the data \n",
    "df1.describe(include='all').T"
   ]
  },
  {
   "cell_type": "markdown",
   "metadata": {},
   "source": [
    "### **Observations:**\n",
    "---\n",
    "- The work year ranges from 2020 to 2023.\n",
    "- Experience levels range from Entry-level (EN) to Executive (EX), with Senior (SE) being the most frequent.\n",
    "- Most of the Employment type are FT (full time).\n",
    "- There are 93 job titles and most frequent title is Data Engineer.\n",
    "- Salaries range widely, with significant variation as shown by the high standard deviation.\n",
    "- The majority of salaries are reported in USD.\n",
    "- Majority of the employee residence are in US.\n",
    "- The remote ratio is 100%.\n",
    "- Companies are located in 72 different countries, with the US being the most common location.\n",
    "- Companies size are mentioned in 3 categories Small (S), Medium(M), Large(L).\n"
   ]
  },
  {
   "cell_type": "code",
   "execution_count": 14,
   "metadata": {},
   "outputs": [
    {
     "name": "stdout",
     "output_type": "stream",
     "text": [
      "<class 'pandas.core.frame.DataFrame'>\n",
      "RangeIndex: 2584 entries, 0 to 2583\n",
      "Data columns (total 11 columns):\n",
      " #   Column              Non-Null Count  Dtype \n",
      "---  ------              --------------  ----- \n",
      " 0   work_year           2584 non-null   int64 \n",
      " 1   experience_level    2584 non-null   object\n",
      " 2   employment_type     2584 non-null   object\n",
      " 3   job_title           2584 non-null   object\n",
      " 4   salary              2584 non-null   int64 \n",
      " 5   salary_currency     2584 non-null   object\n",
      " 6   salary_in_usd       2584 non-null   int64 \n",
      " 7   employee_residence  2584 non-null   object\n",
      " 8   remote_ratio        2584 non-null   int64 \n",
      " 9   company_location    2584 non-null   object\n",
      " 10  company_size        2584 non-null   object\n",
      "dtypes: int64(4), object(7)\n",
      "memory usage: 222.2+ KB\n"
     ]
    }
   ],
   "source": [
    "df1.info()"
   ]
  },
  {
   "cell_type": "markdown",
   "metadata": {},
   "source": [
    "- The DataFrame consists of `2584` entries across `11` columns. All columns are fully populated with no missing values. The data types include integers and objects (strings), and the total memory usage is approximately `222.2 KB`."
   ]
  },
  {
   "cell_type": "code",
   "execution_count": 15,
   "metadata": {},
   "outputs": [],
   "source": [
    "# Removing two columns to reduce complexity.\n",
    "df2 = df1.drop(['salary', 'salary_currency'], axis=1)"
   ]
  },
  {
   "cell_type": "markdown",
   "metadata": {},
   "source": [
    "- we remove two columns `salary`, `salary_currency` from the dataframe `df` and store the result in `df2` to reduce complexity in data. we just focus on `salary_in_usd`"
   ]
  },
  {
   "cell_type": "code",
   "execution_count": 16,
   "metadata": {},
   "outputs": [
    {
     "data": {
      "text/html": [
       "<div>\n",
       "<style scoped>\n",
       "    .dataframe tbody tr th:only-of-type {\n",
       "        vertical-align: middle;\n",
       "    }\n",
       "\n",
       "    .dataframe tbody tr th {\n",
       "        vertical-align: top;\n",
       "    }\n",
       "\n",
       "    .dataframe thead th {\n",
       "        text-align: right;\n",
       "    }\n",
       "</style>\n",
       "<table border=\"1\" class=\"dataframe\">\n",
       "  <thead>\n",
       "    <tr style=\"text-align: right;\">\n",
       "      <th></th>\n",
       "      <th>work_year</th>\n",
       "      <th>experience_level</th>\n",
       "      <th>employment_type</th>\n",
       "      <th>job_title</th>\n",
       "      <th>salary_in_usd</th>\n",
       "      <th>employee_residence</th>\n",
       "      <th>remote_ratio</th>\n",
       "      <th>company_location</th>\n",
       "      <th>company_size</th>\n",
       "    </tr>\n",
       "  </thead>\n",
       "  <tbody>\n",
       "    <tr>\n",
       "      <th>0</th>\n",
       "      <td>2023</td>\n",
       "      <td>SE</td>\n",
       "      <td>FT</td>\n",
       "      <td>Principal Data Scientist</td>\n",
       "      <td>85847</td>\n",
       "      <td>ES</td>\n",
       "      <td>100</td>\n",
       "      <td>ES</td>\n",
       "      <td>L</td>\n",
       "    </tr>\n",
       "    <tr>\n",
       "      <th>1</th>\n",
       "      <td>2023</td>\n",
       "      <td>MI</td>\n",
       "      <td>CT</td>\n",
       "      <td>ML Engineer</td>\n",
       "      <td>30000</td>\n",
       "      <td>US</td>\n",
       "      <td>100</td>\n",
       "      <td>US</td>\n",
       "      <td>S</td>\n",
       "    </tr>\n",
       "    <tr>\n",
       "      <th>2</th>\n",
       "      <td>2023</td>\n",
       "      <td>MI</td>\n",
       "      <td>CT</td>\n",
       "      <td>ML Engineer</td>\n",
       "      <td>25500</td>\n",
       "      <td>US</td>\n",
       "      <td>100</td>\n",
       "      <td>US</td>\n",
       "      <td>S</td>\n",
       "    </tr>\n",
       "    <tr>\n",
       "      <th>3</th>\n",
       "      <td>2023</td>\n",
       "      <td>SE</td>\n",
       "      <td>FT</td>\n",
       "      <td>Data Scientist</td>\n",
       "      <td>175000</td>\n",
       "      <td>CA</td>\n",
       "      <td>100</td>\n",
       "      <td>CA</td>\n",
       "      <td>M</td>\n",
       "    </tr>\n",
       "    <tr>\n",
       "      <th>4</th>\n",
       "      <td>2023</td>\n",
       "      <td>SE</td>\n",
       "      <td>FT</td>\n",
       "      <td>Data Scientist</td>\n",
       "      <td>120000</td>\n",
       "      <td>CA</td>\n",
       "      <td>100</td>\n",
       "      <td>CA</td>\n",
       "      <td>M</td>\n",
       "    </tr>\n",
       "  </tbody>\n",
       "</table>\n",
       "</div>"
      ],
      "text/plain": [
       "   work_year experience_level employment_type                 job_title  \\\n",
       "0       2023               SE              FT  Principal Data Scientist   \n",
       "1       2023               MI              CT               ML Engineer   \n",
       "2       2023               MI              CT               ML Engineer   \n",
       "3       2023               SE              FT            Data Scientist   \n",
       "4       2023               SE              FT            Data Scientist   \n",
       "\n",
       "   salary_in_usd employee_residence  remote_ratio company_location  \\\n",
       "0          85847                 ES           100               ES   \n",
       "1          30000                 US           100               US   \n",
       "2          25500                 US           100               US   \n",
       "3         175000                 CA           100               CA   \n",
       "4         120000                 CA           100               CA   \n",
       "\n",
       "  company_size  \n",
       "0            L  \n",
       "1            S  \n",
       "2            S  \n",
       "3            M  \n",
       "4            M  "
      ]
     },
     "execution_count": 16,
     "metadata": {},
     "output_type": "execute_result"
    }
   ],
   "source": [
    "df2.head(5)"
   ]
  },
  {
   "cell_type": "markdown",
   "metadata": {},
   "source": [
    "- See the columns are `11` and two columns are removed."
   ]
  },
  {
   "cell_type": "code",
   "execution_count": 17,
   "metadata": {},
   "outputs": [
    {
     "name": "stdout",
     "output_type": "stream",
     "text": [
      "Experience level:  ['SE' 'MI' 'EN' 'EX']\n",
      "Employment type:  ['FT' 'CT' 'FL' 'PT']\n",
      "Employee residence:  ['ES' 'US' 'CA' 'DE' 'GB' 'NG' 'IN' 'HK' 'PT' 'NL' 'CH' 'CF' 'FR' 'AU'\n",
      " 'FI' 'UA' 'IE' 'IL' 'GH' 'AT' 'CO' 'SG' 'SE' 'SI' 'MX' 'UZ' 'BR' 'TH'\n",
      " 'HR' 'PL' 'KW' 'VN' 'CY' 'AR' 'AM' 'BA' 'KE' 'GR' 'MK' 'LV' 'RO' 'PK'\n",
      " 'IT' 'MA' 'LT' 'BE' 'AS' 'IR' 'HU' 'SK' 'CN' 'CZ' 'CR' 'TR' 'CL' 'PR'\n",
      " 'DK' 'BO' 'PH' 'DO' 'EG' 'ID' 'AE' 'MY' 'JP' 'EE' 'HN' 'TN' 'RU' 'DZ'\n",
      " 'IQ' 'BG' 'JE' 'RS' 'NZ' 'MD' 'LU' 'MT']\n",
      "Company location:  ['ES' 'US' 'CA' 'DE' 'GB' 'NG' 'IN' 'HK' 'NL' 'CH' 'CF' 'FR' 'FI' 'UA'\n",
      " 'IE' 'IL' 'GH' 'CO' 'SG' 'AU' 'SE' 'SI' 'MX' 'BR' 'PT' 'RU' 'TH' 'HR'\n",
      " 'VN' 'EE' 'AM' 'BA' 'KE' 'GR' 'MK' 'LV' 'RO' 'PK' 'IT' 'MA' 'PL' 'AL'\n",
      " 'AR' 'LT' 'AS' 'CR' 'IR' 'BS' 'HU' 'AT' 'SK' 'CZ' 'TR' 'PR' 'DK' 'BO'\n",
      " 'PH' 'BE' 'ID' 'EG' 'AE' 'LU' 'MY' 'HN' 'JP' 'DZ' 'IQ' 'CN' 'NZ' 'CL'\n",
      " 'MD' 'MT']\n",
      "Company size:  ['L' 'S' 'M']\n"
     ]
    }
   ],
   "source": [
    "print('Experience level: ', df2['experience_level'].unique())\n",
    "print('Employment type: ', df2['employment_type'].unique())\n",
    "print('Employee residence: ', df2['employee_residence'].unique())\n",
    "print('Company location: ', df2['company_location'].unique())\n",
    "print('Company size: ', df2['company_size'].unique())"
   ]
  },
  {
   "cell_type": "markdown",
   "metadata": {},
   "source": [
    "- Here we just check the unique values in data for further process in cleaning."
   ]
  },
  {
   "cell_type": "code",
   "execution_count": 18,
   "metadata": {},
   "outputs": [],
   "source": [
    "experience_level_map = {\n",
    "    'SE': 'Senior',\n",
    "    'MI': 'Middle',\n",
    "    'EN': 'Junior',\n",
    "    'EX': 'Executive'\n",
    "}\n",
    "\n",
    "employment_type_map = {\n",
    "    'FT': 'Full Time',\n",
    "    'CT': 'Contract',\n",
    "    'FL': 'Freelance',\n",
    "    'PT': 'Part Time'\n",
    "}\n",
    "\n",
    "remote_ratio_map = {\n",
    "    0: 'Not Remote',\n",
    "    50: 'Half Remote',\n",
    "    100: 'Full Remote'\n",
    "}\n",
    "\n",
    "company_size_map = {\n",
    "    'L': 'Large',\n",
    "    'S': 'Small',\n",
    "    'M': 'Medium'\n",
    "}"
   ]
  },
  {
   "cell_type": "code",
   "execution_count": 19,
   "metadata": {},
   "outputs": [],
   "source": [
    "df3 = df2.copy()\n",
    "df3['experience_level'] = df3['experience_level'].map(experience_level_map)\n",
    "df3['employment_type'] = df3['employment_type'].map(employment_type_map)\n",
    "df3['company_size'] = df3['company_size'].map(company_size_map)\n",
    "df3['remote_ratio'] = df3['remote_ratio'].map(remote_ratio_map)"
   ]
  },
  {
   "cell_type": "code",
   "execution_count": 20,
   "metadata": {},
   "outputs": [
    {
     "data": {
      "text/html": [
       "<div>\n",
       "<style scoped>\n",
       "    .dataframe tbody tr th:only-of-type {\n",
       "        vertical-align: middle;\n",
       "    }\n",
       "\n",
       "    .dataframe tbody tr th {\n",
       "        vertical-align: top;\n",
       "    }\n",
       "\n",
       "    .dataframe thead th {\n",
       "        text-align: right;\n",
       "    }\n",
       "</style>\n",
       "<table border=\"1\" class=\"dataframe\">\n",
       "  <thead>\n",
       "    <tr style=\"text-align: right;\">\n",
       "      <th></th>\n",
       "      <th>work_year</th>\n",
       "      <th>experience_level</th>\n",
       "      <th>employment_type</th>\n",
       "      <th>job_title</th>\n",
       "      <th>salary_in_usd</th>\n",
       "      <th>employee_residence</th>\n",
       "      <th>remote_ratio</th>\n",
       "      <th>company_location</th>\n",
       "      <th>company_size</th>\n",
       "    </tr>\n",
       "  </thead>\n",
       "  <tbody>\n",
       "    <tr>\n",
       "      <th>552</th>\n",
       "      <td>2023</td>\n",
       "      <td>Middle</td>\n",
       "      <td>Full Time</td>\n",
       "      <td>Data Engineer</td>\n",
       "      <td>85066</td>\n",
       "      <td>GB</td>\n",
       "      <td>Full Remote</td>\n",
       "      <td>GB</td>\n",
       "      <td>Medium</td>\n",
       "    </tr>\n",
       "    <tr>\n",
       "      <th>1334</th>\n",
       "      <td>2022</td>\n",
       "      <td>Senior</td>\n",
       "      <td>Full Time</td>\n",
       "      <td>Research Scientist</td>\n",
       "      <td>210000</td>\n",
       "      <td>US</td>\n",
       "      <td>Full Remote</td>\n",
       "      <td>US</td>\n",
       "      <td>Medium</td>\n",
       "    </tr>\n",
       "    <tr>\n",
       "      <th>1586</th>\n",
       "      <td>2022</td>\n",
       "      <td>Senior</td>\n",
       "      <td>Full Time</td>\n",
       "      <td>Data Scientist</td>\n",
       "      <td>247500</td>\n",
       "      <td>US</td>\n",
       "      <td>Not Remote</td>\n",
       "      <td>US</td>\n",
       "      <td>Medium</td>\n",
       "    </tr>\n",
       "    <tr>\n",
       "      <th>1391</th>\n",
       "      <td>2022</td>\n",
       "      <td>Senior</td>\n",
       "      <td>Full Time</td>\n",
       "      <td>Data Analyst</td>\n",
       "      <td>89200</td>\n",
       "      <td>US</td>\n",
       "      <td>Full Remote</td>\n",
       "      <td>US</td>\n",
       "      <td>Medium</td>\n",
       "    </tr>\n",
       "    <tr>\n",
       "      <th>740</th>\n",
       "      <td>2023</td>\n",
       "      <td>Senior</td>\n",
       "      <td>Full Time</td>\n",
       "      <td>Data Engineer</td>\n",
       "      <td>80000</td>\n",
       "      <td>US</td>\n",
       "      <td>Not Remote</td>\n",
       "      <td>US</td>\n",
       "      <td>Medium</td>\n",
       "    </tr>\n",
       "  </tbody>\n",
       "</table>\n",
       "</div>"
      ],
      "text/plain": [
       "      work_year experience_level employment_type           job_title  \\\n",
       "552        2023           Middle       Full Time       Data Engineer   \n",
       "1334       2022           Senior       Full Time  Research Scientist   \n",
       "1586       2022           Senior       Full Time      Data Scientist   \n",
       "1391       2022           Senior       Full Time        Data Analyst   \n",
       "740        2023           Senior       Full Time       Data Engineer   \n",
       "\n",
       "      salary_in_usd employee_residence remote_ratio company_location  \\\n",
       "552           85066                 GB  Full Remote               GB   \n",
       "1334         210000                 US  Full Remote               US   \n",
       "1586         247500                 US   Not Remote               US   \n",
       "1391          89200                 US  Full Remote               US   \n",
       "740           80000                 US   Not Remote               US   \n",
       "\n",
       "     company_size  \n",
       "552        Medium  \n",
       "1334       Medium  \n",
       "1586       Medium  \n",
       "1391       Medium  \n",
       "740        Medium  "
      ]
     },
     "execution_count": 20,
     "metadata": {},
     "output_type": "execute_result"
    }
   ],
   "source": [
    "df3.sample(5)"
   ]
  },
  {
   "cell_type": "markdown",
   "metadata": {},
   "source": [
    "### **In the above code:**\n",
    "- We'll map abbreviated codes to more descriptive terms for better clarity and understanding."
   ]
  },
  {
   "cell_type": "code",
   "execution_count": 21,
   "metadata": {},
   "outputs": [
    {
     "data": {
      "text/html": [
       "<div>\n",
       "<style scoped>\n",
       "    .dataframe tbody tr th:only-of-type {\n",
       "        vertical-align: middle;\n",
       "    }\n",
       "\n",
       "    .dataframe tbody tr th {\n",
       "        vertical-align: top;\n",
       "    }\n",
       "\n",
       "    .dataframe thead th {\n",
       "        text-align: right;\n",
       "    }\n",
       "</style>\n",
       "<table border=\"1\" class=\"dataframe\">\n",
       "  <thead>\n",
       "    <tr style=\"text-align: right;\">\n",
       "      <th></th>\n",
       "      <th>work_year</th>\n",
       "      <th>experience_level</th>\n",
       "      <th>employment_type</th>\n",
       "      <th>job_title</th>\n",
       "      <th>salary_in_usd</th>\n",
       "      <th>employee_residence</th>\n",
       "      <th>remote_ratio</th>\n",
       "      <th>company_location</th>\n",
       "      <th>company_size</th>\n",
       "    </tr>\n",
       "  </thead>\n",
       "  <tbody>\n",
       "    <tr>\n",
       "      <th>0</th>\n",
       "      <td>2023</td>\n",
       "      <td>Senior</td>\n",
       "      <td>Full Time</td>\n",
       "      <td>Principal Data Scientist</td>\n",
       "      <td>85847</td>\n",
       "      <td>ESP</td>\n",
       "      <td>Full Remote</td>\n",
       "      <td>ESP</td>\n",
       "      <td>Large</td>\n",
       "    </tr>\n",
       "    <tr>\n",
       "      <th>1</th>\n",
       "      <td>2023</td>\n",
       "      <td>Middle</td>\n",
       "      <td>Contract</td>\n",
       "      <td>ML Engineer</td>\n",
       "      <td>30000</td>\n",
       "      <td>USA</td>\n",
       "      <td>Full Remote</td>\n",
       "      <td>USA</td>\n",
       "      <td>Small</td>\n",
       "    </tr>\n",
       "    <tr>\n",
       "      <th>2</th>\n",
       "      <td>2023</td>\n",
       "      <td>Middle</td>\n",
       "      <td>Contract</td>\n",
       "      <td>ML Engineer</td>\n",
       "      <td>25500</td>\n",
       "      <td>USA</td>\n",
       "      <td>Full Remote</td>\n",
       "      <td>USA</td>\n",
       "      <td>Small</td>\n",
       "    </tr>\n",
       "    <tr>\n",
       "      <th>3</th>\n",
       "      <td>2023</td>\n",
       "      <td>Senior</td>\n",
       "      <td>Full Time</td>\n",
       "      <td>Data Scientist</td>\n",
       "      <td>175000</td>\n",
       "      <td>CAN</td>\n",
       "      <td>Full Remote</td>\n",
       "      <td>CAN</td>\n",
       "      <td>Medium</td>\n",
       "    </tr>\n",
       "    <tr>\n",
       "      <th>4</th>\n",
       "      <td>2023</td>\n",
       "      <td>Senior</td>\n",
       "      <td>Full Time</td>\n",
       "      <td>Data Scientist</td>\n",
       "      <td>120000</td>\n",
       "      <td>CAN</td>\n",
       "      <td>Full Remote</td>\n",
       "      <td>CAN</td>\n",
       "      <td>Medium</td>\n",
       "    </tr>\n",
       "  </tbody>\n",
       "</table>\n",
       "</div>"
      ],
      "text/plain": [
       "   work_year experience_level employment_type                 job_title  \\\n",
       "0       2023           Senior       Full Time  Principal Data Scientist   \n",
       "1       2023           Middle        Contract               ML Engineer   \n",
       "2       2023           Middle        Contract               ML Engineer   \n",
       "3       2023           Senior       Full Time            Data Scientist   \n",
       "4       2023           Senior       Full Time            Data Scientist   \n",
       "\n",
       "   salary_in_usd employee_residence remote_ratio company_location company_size  \n",
       "0          85847                ESP  Full Remote              ESP        Large  \n",
       "1          30000                USA  Full Remote              USA        Small  \n",
       "2          25500                USA  Full Remote              USA        Small  \n",
       "3         175000                CAN  Full Remote              CAN       Medium  \n",
       "4         120000                CAN  Full Remote              CAN       Medium  "
      ]
     },
     "execution_count": 21,
     "metadata": {},
     "output_type": "execute_result"
    }
   ],
   "source": [
    "df4 = df3.copy()\n",
    "\n",
    "\n",
    "def convert_iso2_to_iso3(iso2):\n",
    "    try:\n",
    "        return pycountry.countries.get(alpha_2=iso2).alpha_3\n",
    "    except:\n",
    "        return None\n",
    "\n",
    "\n",
    "df4['company_location'] = df4['company_location'].apply(convert_iso2_to_iso3)\n",
    "df4['employee_residence'] = df4['employee_residence'].apply(convert_iso2_to_iso3)\n",
    "df4.head(5)"
   ]
  },
  {
   "cell_type": "markdown",
   "metadata": {},
   "source": [
    "### **In this case:**\n",
    " - The code converts 2-letter country codes to 3-letter codes using pycountry library, enabling compatibility with Plotly choropleth library for world map visualization. This conversion ensures accurate mapping of data to countries for effective visualization."
   ]
  },
  {
   "cell_type": "code",
   "execution_count": 22,
   "metadata": {},
   "outputs": [
    {
     "data": {
      "text/plain": [
       "work_year             0\n",
       "experience_level      0\n",
       "employment_type       0\n",
       "job_title             0\n",
       "salary_in_usd         0\n",
       "employee_residence    0\n",
       "remote_ratio          0\n",
       "company_location      0\n",
       "company_size          0\n",
       "dtype: int64"
      ]
     },
     "execution_count": 22,
     "metadata": {},
     "output_type": "execute_result"
    }
   ],
   "source": [
    "# check if there is any null values\n",
    "df4.isnull().sum()"
   ]
  },
  {
   "cell_type": "markdown",
   "metadata": {},
   "source": [
    "- We again check there is no null values in the dataset."
   ]
  },
  {
   "cell_type": "markdown",
   "metadata": {},
   "source": [
    "> - So this is cleaning phase and we clean all the data and removing duplicate values and null values and replace some values names with other understandable values names."
   ]
  },
  {
   "cell_type": "markdown",
   "metadata": {},
   "source": [
    "# **Analysis**"
   ]
  },
  {
   "cell_type": "markdown",
   "metadata": {},
   "source": [
    "##### Number of foreign employees in each country"
   ]
  },
  {
   "cell_type": "code",
   "execution_count": 23,
   "metadata": {},
   "outputs": [
    {
     "data": {
      "application/vnd.plotly.v1+json": {
       "config": {
        "plotlyServerURL": "https://plot.ly"
       },
       "data": [
        {
         "coloraxis": "coloraxis",
         "customdata": [
          [
           41,
           3.7376696182833684,
           "USA"
          ],
          [
           10,
           2.3978952727983707,
           "DEU"
          ],
          [
           6,
           1.9459101490553132,
           "GBR"
          ],
          [
           5,
           1.791759469228055,
           "AUS"
          ],
          [
           4,
           1.6094379124341003,
           "CAN"
          ],
          [
           2,
           1.0986122886681098,
           "SGP"
          ],
          [
           2,
           1.0986122886681098,
           "IND"
          ],
          [
           2,
           1.0986122886681098,
           "ASM"
          ],
          [
           2,
           1.0986122886681098,
           "ESP"
          ],
          [
           2,
           1.0986122886681098,
           "LUX"
          ],
          [
           2,
           1.0986122886681098,
           "FRA"
          ],
          [
           1,
           0.6931471805599453,
           "FIN"
          ],
          [
           1,
           0.6931471805599453,
           "RUS"
          ],
          [
           1,
           0.6931471805599453,
           "CRI"
          ],
          [
           1,
           0.6931471805599453,
           "ALB"
          ],
          [
           1,
           0.6931471805599453,
           "PAK"
          ],
          [
           1,
           0.6931471805599453,
           "EST"
          ],
          [
           1,
           0.6931471805599453,
           "BHS"
          ],
          [
           1,
           0.6931471805599453,
           "IDN"
          ],
          [
           1,
           0.6931471805599453,
           "MEX"
          ],
          [
           1,
           0.6931471805599453,
           "MYS"
          ],
          [
           1,
           0.6931471805599453,
           "CZE"
          ],
          [
           1,
           0.6931471805599453,
           "ROU"
          ],
          [
           1,
           0.6931471805599453,
           "POL"
          ],
          [
           1,
           0.6931471805599453,
           "DNK"
          ],
          [
           1,
           0.6931471805599453,
           "CHN"
          ],
          [
           1,
           0.6931471805599453,
           "AUT"
          ],
          [
           1,
           0.6931471805599453,
           "CHE"
          ],
          [
           1,
           0.6931471805599453,
           "ISR"
          ]
         ],
         "geo": "geo",
         "hovertemplate": "<b>%{hovertext}</b><br><br>foreign_emp=%{customdata[0]}<extra></extra>",
         "hovertext": [
          "USA",
          "DEU",
          "GBR",
          "AUS",
          "CAN",
          "SGP",
          "IND",
          "ASM",
          "ESP",
          "LUX",
          "FRA",
          "FIN",
          "RUS",
          "CRI",
          "ALB",
          "PAK",
          "EST",
          "BHS",
          "IDN",
          "MEX",
          "MYS",
          "CZE",
          "ROU",
          "POL",
          "DNK",
          "CHN",
          "AUT",
          "CHE",
          "ISR"
         ],
         "locations": [
          "USA",
          "DEU",
          "GBR",
          "AUS",
          "CAN",
          "SGP",
          "IND",
          "ASM",
          "ESP",
          "LUX",
          "FRA",
          "FIN",
          "RUS",
          "CRI",
          "ALB",
          "PAK",
          "EST",
          "BHS",
          "IDN",
          "MEX",
          "MYS",
          "CZE",
          "ROU",
          "POL",
          "DNK",
          "CHN",
          "AUT",
          "CHE",
          "ISR"
         ],
         "name": "",
         "type": "choropleth",
         "z": [
          3.7376696182833684,
          2.3978952727983707,
          1.9459101490553132,
          1.791759469228055,
          1.6094379124341003,
          1.0986122886681098,
          1.0986122886681098,
          1.0986122886681098,
          1.0986122886681098,
          1.0986122886681098,
          1.0986122886681098,
          0.6931471805599453,
          0.6931471805599453,
          0.6931471805599453,
          0.6931471805599453,
          0.6931471805599453,
          0.6931471805599453,
          0.6931471805599453,
          0.6931471805599453,
          0.6931471805599453,
          0.6931471805599453,
          0.6931471805599453,
          0.6931471805599453,
          0.6931471805599453,
          0.6931471805599453,
          0.6931471805599453,
          0.6931471805599453,
          0.6931471805599453,
          0.6931471805599453
         ]
        }
       ],
       "layout": {
        "coloraxis": {
         "colorbar": {
          "ticktext": [
           "2",
           "5",
           "10",
           "20",
           "40"
          ],
          "tickvals": [
           1.0986122886681098,
           1.791759469228055,
           2.3978952727983707,
           3.044522437723423,
           3.713572066704308
          ],
          "title": {
           "text": "log1p_foreign_emp"
          }
         },
         "colorscale": [
          [
           0,
           "#0d0887"
          ],
          [
           0.1111111111111111,
           "#46039f"
          ],
          [
           0.2222222222222222,
           "#7201a8"
          ],
          [
           0.3333333333333333,
           "#9c179e"
          ],
          [
           0.4444444444444444,
           "#bd3786"
          ],
          [
           0.5555555555555556,
           "#d8576b"
          ],
          [
           0.6666666666666666,
           "#ed7953"
          ],
          [
           0.7777777777777778,
           "#fb9f3a"
          ],
          [
           0.8888888888888888,
           "#fdca26"
          ],
          [
           1,
           "#f0f921"
          ]
         ]
        },
        "geo": {
         "center": {},
         "domain": {
          "x": [
           0,
           1
          ],
          "y": [
           0,
           1
          ]
         }
        },
        "legend": {
         "tracegroupgap": 0
        },
        "template": {
         "data": {
          "bar": [
           {
            "error_x": {
             "color": "#2a3f5f"
            },
            "error_y": {
             "color": "#2a3f5f"
            },
            "marker": {
             "line": {
              "color": "#E5ECF6",
              "width": 0.5
             },
             "pattern": {
              "fillmode": "overlay",
              "size": 10,
              "solidity": 0.2
             }
            },
            "type": "bar"
           }
          ],
          "barpolar": [
           {
            "marker": {
             "line": {
              "color": "#E5ECF6",
              "width": 0.5
             },
             "pattern": {
              "fillmode": "overlay",
              "size": 10,
              "solidity": 0.2
             }
            },
            "type": "barpolar"
           }
          ],
          "carpet": [
           {
            "aaxis": {
             "endlinecolor": "#2a3f5f",
             "gridcolor": "white",
             "linecolor": "white",
             "minorgridcolor": "white",
             "startlinecolor": "#2a3f5f"
            },
            "baxis": {
             "endlinecolor": "#2a3f5f",
             "gridcolor": "white",
             "linecolor": "white",
             "minorgridcolor": "white",
             "startlinecolor": "#2a3f5f"
            },
            "type": "carpet"
           }
          ],
          "choropleth": [
           {
            "colorbar": {
             "outlinewidth": 0,
             "ticks": ""
            },
            "type": "choropleth"
           }
          ],
          "contour": [
           {
            "colorbar": {
             "outlinewidth": 0,
             "ticks": ""
            },
            "colorscale": [
             [
              0,
              "#0d0887"
             ],
             [
              0.1111111111111111,
              "#46039f"
             ],
             [
              0.2222222222222222,
              "#7201a8"
             ],
             [
              0.3333333333333333,
              "#9c179e"
             ],
             [
              0.4444444444444444,
              "#bd3786"
             ],
             [
              0.5555555555555556,
              "#d8576b"
             ],
             [
              0.6666666666666666,
              "#ed7953"
             ],
             [
              0.7777777777777778,
              "#fb9f3a"
             ],
             [
              0.8888888888888888,
              "#fdca26"
             ],
             [
              1,
              "#f0f921"
             ]
            ],
            "type": "contour"
           }
          ],
          "contourcarpet": [
           {
            "colorbar": {
             "outlinewidth": 0,
             "ticks": ""
            },
            "type": "contourcarpet"
           }
          ],
          "heatmap": [
           {
            "colorbar": {
             "outlinewidth": 0,
             "ticks": ""
            },
            "colorscale": [
             [
              0,
              "#0d0887"
             ],
             [
              0.1111111111111111,
              "#46039f"
             ],
             [
              0.2222222222222222,
              "#7201a8"
             ],
             [
              0.3333333333333333,
              "#9c179e"
             ],
             [
              0.4444444444444444,
              "#bd3786"
             ],
             [
              0.5555555555555556,
              "#d8576b"
             ],
             [
              0.6666666666666666,
              "#ed7953"
             ],
             [
              0.7777777777777778,
              "#fb9f3a"
             ],
             [
              0.8888888888888888,
              "#fdca26"
             ],
             [
              1,
              "#f0f921"
             ]
            ],
            "type": "heatmap"
           }
          ],
          "heatmapgl": [
           {
            "colorbar": {
             "outlinewidth": 0,
             "ticks": ""
            },
            "colorscale": [
             [
              0,
              "#0d0887"
             ],
             [
              0.1111111111111111,
              "#46039f"
             ],
             [
              0.2222222222222222,
              "#7201a8"
             ],
             [
              0.3333333333333333,
              "#9c179e"
             ],
             [
              0.4444444444444444,
              "#bd3786"
             ],
             [
              0.5555555555555556,
              "#d8576b"
             ],
             [
              0.6666666666666666,
              "#ed7953"
             ],
             [
              0.7777777777777778,
              "#fb9f3a"
             ],
             [
              0.8888888888888888,
              "#fdca26"
             ],
             [
              1,
              "#f0f921"
             ]
            ],
            "type": "heatmapgl"
           }
          ],
          "histogram": [
           {
            "marker": {
             "pattern": {
              "fillmode": "overlay",
              "size": 10,
              "solidity": 0.2
             }
            },
            "type": "histogram"
           }
          ],
          "histogram2d": [
           {
            "colorbar": {
             "outlinewidth": 0,
             "ticks": ""
            },
            "colorscale": [
             [
              0,
              "#0d0887"
             ],
             [
              0.1111111111111111,
              "#46039f"
             ],
             [
              0.2222222222222222,
              "#7201a8"
             ],
             [
              0.3333333333333333,
              "#9c179e"
             ],
             [
              0.4444444444444444,
              "#bd3786"
             ],
             [
              0.5555555555555556,
              "#d8576b"
             ],
             [
              0.6666666666666666,
              "#ed7953"
             ],
             [
              0.7777777777777778,
              "#fb9f3a"
             ],
             [
              0.8888888888888888,
              "#fdca26"
             ],
             [
              1,
              "#f0f921"
             ]
            ],
            "type": "histogram2d"
           }
          ],
          "histogram2dcontour": [
           {
            "colorbar": {
             "outlinewidth": 0,
             "ticks": ""
            },
            "colorscale": [
             [
              0,
              "#0d0887"
             ],
             [
              0.1111111111111111,
              "#46039f"
             ],
             [
              0.2222222222222222,
              "#7201a8"
             ],
             [
              0.3333333333333333,
              "#9c179e"
             ],
             [
              0.4444444444444444,
              "#bd3786"
             ],
             [
              0.5555555555555556,
              "#d8576b"
             ],
             [
              0.6666666666666666,
              "#ed7953"
             ],
             [
              0.7777777777777778,
              "#fb9f3a"
             ],
             [
              0.8888888888888888,
              "#fdca26"
             ],
             [
              1,
              "#f0f921"
             ]
            ],
            "type": "histogram2dcontour"
           }
          ],
          "mesh3d": [
           {
            "colorbar": {
             "outlinewidth": 0,
             "ticks": ""
            },
            "type": "mesh3d"
           }
          ],
          "parcoords": [
           {
            "line": {
             "colorbar": {
              "outlinewidth": 0,
              "ticks": ""
             }
            },
            "type": "parcoords"
           }
          ],
          "pie": [
           {
            "automargin": true,
            "type": "pie"
           }
          ],
          "scatter": [
           {
            "fillpattern": {
             "fillmode": "overlay",
             "size": 10,
             "solidity": 0.2
            },
            "type": "scatter"
           }
          ],
          "scatter3d": [
           {
            "line": {
             "colorbar": {
              "outlinewidth": 0,
              "ticks": ""
             }
            },
            "marker": {
             "colorbar": {
              "outlinewidth": 0,
              "ticks": ""
             }
            },
            "type": "scatter3d"
           }
          ],
          "scattercarpet": [
           {
            "marker": {
             "colorbar": {
              "outlinewidth": 0,
              "ticks": ""
             }
            },
            "type": "scattercarpet"
           }
          ],
          "scattergeo": [
           {
            "marker": {
             "colorbar": {
              "outlinewidth": 0,
              "ticks": ""
             }
            },
            "type": "scattergeo"
           }
          ],
          "scattergl": [
           {
            "marker": {
             "colorbar": {
              "outlinewidth": 0,
              "ticks": ""
             }
            },
            "type": "scattergl"
           }
          ],
          "scattermapbox": [
           {
            "marker": {
             "colorbar": {
              "outlinewidth": 0,
              "ticks": ""
             }
            },
            "type": "scattermapbox"
           }
          ],
          "scatterpolar": [
           {
            "marker": {
             "colorbar": {
              "outlinewidth": 0,
              "ticks": ""
             }
            },
            "type": "scatterpolar"
           }
          ],
          "scatterpolargl": [
           {
            "marker": {
             "colorbar": {
              "outlinewidth": 0,
              "ticks": ""
             }
            },
            "type": "scatterpolargl"
           }
          ],
          "scatterternary": [
           {
            "marker": {
             "colorbar": {
              "outlinewidth": 0,
              "ticks": ""
             }
            },
            "type": "scatterternary"
           }
          ],
          "surface": [
           {
            "colorbar": {
             "outlinewidth": 0,
             "ticks": ""
            },
            "colorscale": [
             [
              0,
              "#0d0887"
             ],
             [
              0.1111111111111111,
              "#46039f"
             ],
             [
              0.2222222222222222,
              "#7201a8"
             ],
             [
              0.3333333333333333,
              "#9c179e"
             ],
             [
              0.4444444444444444,
              "#bd3786"
             ],
             [
              0.5555555555555556,
              "#d8576b"
             ],
             [
              0.6666666666666666,
              "#ed7953"
             ],
             [
              0.7777777777777778,
              "#fb9f3a"
             ],
             [
              0.8888888888888888,
              "#fdca26"
             ],
             [
              1,
              "#f0f921"
             ]
            ],
            "type": "surface"
           }
          ],
          "table": [
           {
            "cells": {
             "fill": {
              "color": "#EBF0F8"
             },
             "line": {
              "color": "white"
             }
            },
            "header": {
             "fill": {
              "color": "#C8D4E3"
             },
             "line": {
              "color": "white"
             }
            },
            "type": "table"
           }
          ]
         },
         "layout": {
          "annotationdefaults": {
           "arrowcolor": "#2a3f5f",
           "arrowhead": 0,
           "arrowwidth": 1
          },
          "autotypenumbers": "strict",
          "coloraxis": {
           "colorbar": {
            "outlinewidth": 0,
            "ticks": ""
           }
          },
          "colorscale": {
           "diverging": [
            [
             0,
             "#8e0152"
            ],
            [
             0.1,
             "#c51b7d"
            ],
            [
             0.2,
             "#de77ae"
            ],
            [
             0.3,
             "#f1b6da"
            ],
            [
             0.4,
             "#fde0ef"
            ],
            [
             0.5,
             "#f7f7f7"
            ],
            [
             0.6,
             "#e6f5d0"
            ],
            [
             0.7,
             "#b8e186"
            ],
            [
             0.8,
             "#7fbc41"
            ],
            [
             0.9,
             "#4d9221"
            ],
            [
             1,
             "#276419"
            ]
           ],
           "sequential": [
            [
             0,
             "#0d0887"
            ],
            [
             0.1111111111111111,
             "#46039f"
            ],
            [
             0.2222222222222222,
             "#7201a8"
            ],
            [
             0.3333333333333333,
             "#9c179e"
            ],
            [
             0.4444444444444444,
             "#bd3786"
            ],
            [
             0.5555555555555556,
             "#d8576b"
            ],
            [
             0.6666666666666666,
             "#ed7953"
            ],
            [
             0.7777777777777778,
             "#fb9f3a"
            ],
            [
             0.8888888888888888,
             "#fdca26"
            ],
            [
             1,
             "#f0f921"
            ]
           ],
           "sequentialminus": [
            [
             0,
             "#0d0887"
            ],
            [
             0.1111111111111111,
             "#46039f"
            ],
            [
             0.2222222222222222,
             "#7201a8"
            ],
            [
             0.3333333333333333,
             "#9c179e"
            ],
            [
             0.4444444444444444,
             "#bd3786"
            ],
            [
             0.5555555555555556,
             "#d8576b"
            ],
            [
             0.6666666666666666,
             "#ed7953"
            ],
            [
             0.7777777777777778,
             "#fb9f3a"
            ],
            [
             0.8888888888888888,
             "#fdca26"
            ],
            [
             1,
             "#f0f921"
            ]
           ]
          },
          "colorway": [
           "#636efa",
           "#EF553B",
           "#00cc96",
           "#ab63fa",
           "#FFA15A",
           "#19d3f3",
           "#FF6692",
           "#B6E880",
           "#FF97FF",
           "#FECB52"
          ],
          "font": {
           "color": "#2a3f5f"
          },
          "geo": {
           "bgcolor": "white",
           "lakecolor": "white",
           "landcolor": "#E5ECF6",
           "showlakes": true,
           "showland": true,
           "subunitcolor": "white"
          },
          "hoverlabel": {
           "align": "left"
          },
          "hovermode": "closest",
          "mapbox": {
           "style": "light"
          },
          "paper_bgcolor": "white",
          "plot_bgcolor": "#E5ECF6",
          "polar": {
           "angularaxis": {
            "gridcolor": "white",
            "linecolor": "white",
            "ticks": ""
           },
           "bgcolor": "#E5ECF6",
           "radialaxis": {
            "gridcolor": "white",
            "linecolor": "white",
            "ticks": ""
           }
          },
          "scene": {
           "xaxis": {
            "backgroundcolor": "#E5ECF6",
            "gridcolor": "white",
            "gridwidth": 2,
            "linecolor": "white",
            "showbackground": true,
            "ticks": "",
            "zerolinecolor": "white"
           },
           "yaxis": {
            "backgroundcolor": "#E5ECF6",
            "gridcolor": "white",
            "gridwidth": 2,
            "linecolor": "white",
            "showbackground": true,
            "ticks": "",
            "zerolinecolor": "white"
           },
           "zaxis": {
            "backgroundcolor": "#E5ECF6",
            "gridcolor": "white",
            "gridwidth": 2,
            "linecolor": "white",
            "showbackground": true,
            "ticks": "",
            "zerolinecolor": "white"
           }
          },
          "shapedefaults": {
           "line": {
            "color": "#2a3f5f"
           }
          },
          "ternary": {
           "aaxis": {
            "gridcolor": "white",
            "linecolor": "white",
            "ticks": ""
           },
           "baxis": {
            "gridcolor": "white",
            "linecolor": "white",
            "ticks": ""
           },
           "bgcolor": "#E5ECF6",
           "caxis": {
            "gridcolor": "white",
            "linecolor": "white",
            "ticks": ""
           }
          },
          "title": {
           "x": 0.05
          },
          "xaxis": {
           "automargin": true,
           "gridcolor": "white",
           "linecolor": "white",
           "ticks": "",
           "title": {
            "standoff": 15
           },
           "zerolinecolor": "white",
           "zerolinewidth": 2
          },
          "yaxis": {
           "automargin": true,
           "gridcolor": "white",
           "linecolor": "white",
           "ticks": "",
           "title": {
            "standoff": 15
           },
           "zerolinecolor": "white",
           "zerolinewidth": 2
          }
         }
        },
        "title": {
         "text": "Number of foreign employees in each country"
        }
       }
      }
     },
     "metadata": {},
     "output_type": "display_data"
    }
   ],
   "source": [
    "different_location_df = df4[df4['employee_residence'] != df4['company_location']]\n",
    "\n",
    "country_counts = different_location_df['company_location'].value_counts().reset_index()\n",
    "\n",
    "country_counts.columns = ['country', 'foreign_emp']\n",
    "country_counts['log1p_foreign_emp'] = np.log1p(country_counts['foreign_emp'])\n",
    "\n",
    "fig = px.choropleth(country_counts, locations='country',\n",
    "                    color='log1p_foreign_emp', hover_name='country',\n",
    "                    hover_data={'foreign_emp': True, 'log1p_foreign_emp': False, 'country': False},\n",
    "                    title='Number of foreign employees in each country',\n",
    "                    labels={'foreign_employees': 'number of foreign employees'})\n",
    "\n",
    "fig.update_layout(\n",
    "    coloraxis_colorbar=dict(\n",
    "        tickvals=[np.log1p(2), np.log1p(5), np.log1p(10), np.log1p(20), np.log1p(40)], # Logaritmic values\n",
    "        ticktext=['2', '5', '10', '20', '40'],  # text values\n",
    "    )\n",
    ")\n",
    "\n",
    "fig.show()"
   ]
  },
  {
   "cell_type": "markdown",
   "metadata": {},
   "source": [
    "### **Description:**\n",
    "This analysis visualizes the distribution of foreign employees across different countries using a Plotly choropleth map.\n",
    "\n",
    "### **Steps:**\n",
    "\n",
    " 1. `Filter Data:` The dataset df4 is filtered to include only those records where the employee's residence is different from the company's location.\n",
    " 2. `Count Foreign:` Employees: The number of foreign employees in each country is counted and stored in country_counts.\n",
    " 3. `Log Transformation:` The count of foreign employees is log-transformed to better visualize the distribution on a choropleth map.\n",
    " 4. `Create Choropleth Map:` Using Plotly Express, a choropleth map is created to show the number of foreign employees in each country.\n",
    " 5. `Customize Colorbar:` The color bar is customized with log-transformed tick values to provide a clearer understanding of the employee distribution.\n",
    "\n",
    "### **Result:**\n",
    "\n",
    "The choropleth map shows the number of foreign employees in various countries, using a color gradient to represent the log-transformed counts. Countries with higher counts of foreign employees are represented with warmer colors, while those with lower counts are shown in cooler colors. This transformation helps to clearly distinguish countries with significant numbers of foreign employees from those with fewer.\n",
    "\n",
    "\n",
    "---"
   ]
  },
  {
   "cell_type": "markdown",
   "metadata": {},
   "source": [
    "### Distribution of Employees Residence"
   ]
  },
  {
   "cell_type": "code",
   "execution_count": 24,
   "metadata": {},
   "outputs": [
    {
     "data": {
      "application/vnd.plotly.v1+json": {
       "config": {
        "plotlyServerURL": "https://plot.ly"
       },
       "data": [
        {
         "coloraxis": "coloraxis",
         "customdata": [
          [
           1893,
           7.546446273746024,
           "USA"
          ],
          [
           150,
           5.017279836814924,
           "GBR"
          ],
          [
           81,
           4.406719247264253,
           "CAN"
          ],
          [
           70,
           4.2626798770413155,
           "IND"
          ],
          [
           47,
           3.871201010907891,
           "ESP"
          ],
          [
           47,
           3.871201010907891,
           "DEU"
          ],
          [
           37,
           3.6375861597263857,
           "FRA"
          ],
          [
           18,
           2.9444389791664403,
           "PRT"
          ],
          [
           18,
           2.9444389791664403,
           "BRA"
          ],
          [
           15,
           2.772588722239781,
           "NLD"
          ],
          [
           13,
           2.6390573296152584,
           "GRC"
          ],
          [
           11,
           2.4849066497880004,
           "AUS"
          ],
          [
           10,
           2.3978952727983707,
           "MEX"
          ],
          [
           8,
           2.1972245773362196,
           "ITA"
          ],
          [
           8,
           2.1972245773362196,
           "PAK"
          ],
          [
           7,
           2.0794415416798357,
           "JPN"
          ],
          [
           7,
           2.0794415416798357,
           "NGA"
          ],
          [
           7,
           2.0794415416798357,
           "IRL"
          ],
          [
           6,
           1.9459101490553132,
           "ARG"
          ],
          [
           6,
           1.9459101490553132,
           "AUT"
          ],
          [
           6,
           1.9459101490553132,
           "POL"
          ],
          [
           5,
           1.791759469228055,
           "SGP"
          ],
          [
           5,
           1.791759469228055,
           "BEL"
          ],
          [
           5,
           1.791759469228055,
           "PRI"
          ],
          [
           5,
           1.791759469228055,
           "TUR"
          ],
          [
           4,
           1.6094379124341003,
           "COL"
          ],
          [
           4,
           1.6094379124341003,
           "SVN"
          ],
          [
           4,
           1.6094379124341003,
           "UKR"
          ],
          [
           4,
           1.6094379124341003,
           "LVA"
          ],
          [
           4,
           1.6094379124341003,
           "CHE"
          ],
          [
           4,
           1.6094379124341003,
           "RUS"
          ],
          [
           3,
           1.3862943611198906,
           "VNM"
          ],
          [
           3,
           1.3862943611198906,
           "HRV"
          ],
          [
           3,
           1.3862943611198906,
           "THA"
          ],
          [
           3,
           1.3862943611198906,
           "DNK"
          ],
          [
           3,
           1.3862943611198906,
           "ARE"
          ],
          [
           3,
           1.3862943611198906,
           "BOL"
          ],
          [
           3,
           1.3862943611198906,
           "HUN"
          ],
          [
           3,
           1.3862943611198906,
           "ROU"
          ],
          [
           2,
           1.0986122886681098,
           "CHL"
          ],
          [
           2,
           1.0986122886681098,
           "PHL"
          ],
          [
           2,
           1.0986122886681098,
           "CAF"
          ],
          [
           2,
           1.0986122886681098,
           "ASM"
          ],
          [
           2,
           1.0986122886681098,
           "LTU"
          ],
          [
           2,
           1.0986122886681098,
           "CZE"
          ],
          [
           2,
           1.0986122886681098,
           "FIN"
          ],
          [
           2,
           1.0986122886681098,
           "UZB"
          ],
          [
           2,
           1.0986122886681098,
           "GHA"
          ],
          [
           2,
           1.0986122886681098,
           "KEN"
          ],
          [
           2,
           1.0986122886681098,
           "SWE"
          ],
          [
           2,
           1.0986122886681098,
           "HKG"
          ],
          [
           1,
           0.6931471805599453,
           "BGR"
          ],
          [
           1,
           0.6931471805599453,
           "ARM"
          ],
          [
           1,
           0.6931471805599453,
           "BIH"
          ],
          [
           1,
           0.6931471805599453,
           "EGY"
          ],
          [
           1,
           0.6931471805599453,
           "CYP"
          ],
          [
           1,
           0.6931471805599453,
           "CHN"
          ],
          [
           1,
           0.6931471805599453,
           "CRI"
          ],
          [
           1,
           0.6931471805599453,
           "DZA"
          ],
          [
           1,
           0.6931471805599453,
           "IDN"
          ],
          [
           1,
           0.6931471805599453,
           "DOM"
          ],
          [
           1,
           0.6931471805599453,
           "EST"
          ],
          [
           1,
           0.6931471805599453,
           "JEY"
          ],
          [
           1,
           0.6931471805599453,
           "IRN"
          ],
          [
           1,
           0.6931471805599453,
           "IRQ"
          ],
          [
           1,
           0.6931471805599453,
           "ISR"
          ],
          [
           1,
           0.6931471805599453,
           "HND"
          ],
          [
           1,
           0.6931471805599453,
           "MAR"
          ],
          [
           1,
           0.6931471805599453,
           "MDA"
          ],
          [
           1,
           0.6931471805599453,
           "MKD"
          ],
          [
           1,
           0.6931471805599453,
           "NZL"
          ],
          [
           1,
           0.6931471805599453,
           "MLT"
          ],
          [
           1,
           0.6931471805599453,
           "MYS"
          ],
          [
           1,
           0.6931471805599453,
           "KWT"
          ],
          [
           1,
           0.6931471805599453,
           "LUX"
          ],
          [
           1,
           0.6931471805599453,
           "SRB"
          ],
          [
           1,
           0.6931471805599453,
           "SVK"
          ],
          [
           1,
           0.6931471805599453,
           "TUN"
          ]
         ],
         "geo": "geo",
         "hovertemplate": "<b>%{hovertext}</b><br><br>Count of Foreign Employees=%{customdata[0]}<extra></extra>",
         "hovertext": [
          "USA",
          "GBR",
          "CAN",
          "IND",
          "ESP",
          "DEU",
          "FRA",
          "PRT",
          "BRA",
          "NLD",
          "GRC",
          "AUS",
          "MEX",
          "ITA",
          "PAK",
          "JPN",
          "NGA",
          "IRL",
          "ARG",
          "AUT",
          "POL",
          "SGP",
          "BEL",
          "PRI",
          "TUR",
          "COL",
          "SVN",
          "UKR",
          "LVA",
          "CHE",
          "RUS",
          "VNM",
          "HRV",
          "THA",
          "DNK",
          "ARE",
          "BOL",
          "HUN",
          "ROU",
          "CHL",
          "PHL",
          "CAF",
          "ASM",
          "LTU",
          "CZE",
          "FIN",
          "UZB",
          "GHA",
          "KEN",
          "SWE",
          "HKG",
          "BGR",
          "ARM",
          "BIH",
          "EGY",
          "CYP",
          "CHN",
          "CRI",
          "DZA",
          "IDN",
          "DOM",
          "EST",
          "JEY",
          "IRN",
          "IRQ",
          "ISR",
          "HND",
          "MAR",
          "MDA",
          "MKD",
          "NZL",
          "MLT",
          "MYS",
          "KWT",
          "LUX",
          "SRB",
          "SVK",
          "TUN"
         ],
         "locations": [
          "USA",
          "GBR",
          "CAN",
          "IND",
          "ESP",
          "DEU",
          "FRA",
          "PRT",
          "BRA",
          "NLD",
          "GRC",
          "AUS",
          "MEX",
          "ITA",
          "PAK",
          "JPN",
          "NGA",
          "IRL",
          "ARG",
          "AUT",
          "POL",
          "SGP",
          "BEL",
          "PRI",
          "TUR",
          "COL",
          "SVN",
          "UKR",
          "LVA",
          "CHE",
          "RUS",
          "VNM",
          "HRV",
          "THA",
          "DNK",
          "ARE",
          "BOL",
          "HUN",
          "ROU",
          "CHL",
          "PHL",
          "CAF",
          "ASM",
          "LTU",
          "CZE",
          "FIN",
          "UZB",
          "GHA",
          "KEN",
          "SWE",
          "HKG",
          "BGR",
          "ARM",
          "BIH",
          "EGY",
          "CYP",
          "CHN",
          "CRI",
          "DZA",
          "IDN",
          "DOM",
          "EST",
          "JEY",
          "IRN",
          "IRQ",
          "ISR",
          "HND",
          "MAR",
          "MDA",
          "MKD",
          "NZL",
          "MLT",
          "MYS",
          "KWT",
          "LUX",
          "SRB",
          "SVK",
          "TUN"
         ],
         "name": "",
         "type": "choropleth",
         "z": [
          7.546446273746024,
          5.017279836814924,
          4.406719247264253,
          4.2626798770413155,
          3.871201010907891,
          3.871201010907891,
          3.6375861597263857,
          2.9444389791664403,
          2.9444389791664403,
          2.772588722239781,
          2.6390573296152584,
          2.4849066497880004,
          2.3978952727983707,
          2.1972245773362196,
          2.1972245773362196,
          2.0794415416798357,
          2.0794415416798357,
          2.0794415416798357,
          1.9459101490553132,
          1.9459101490553132,
          1.9459101490553132,
          1.791759469228055,
          1.791759469228055,
          1.791759469228055,
          1.791759469228055,
          1.6094379124341003,
          1.6094379124341003,
          1.6094379124341003,
          1.6094379124341003,
          1.6094379124341003,
          1.6094379124341003,
          1.3862943611198906,
          1.3862943611198906,
          1.3862943611198906,
          1.3862943611198906,
          1.3862943611198906,
          1.3862943611198906,
          1.3862943611198906,
          1.3862943611198906,
          1.0986122886681098,
          1.0986122886681098,
          1.0986122886681098,
          1.0986122886681098,
          1.0986122886681098,
          1.0986122886681098,
          1.0986122886681098,
          1.0986122886681098,
          1.0986122886681098,
          1.0986122886681098,
          1.0986122886681098,
          1.0986122886681098,
          0.6931471805599453,
          0.6931471805599453,
          0.6931471805599453,
          0.6931471805599453,
          0.6931471805599453,
          0.6931471805599453,
          0.6931471805599453,
          0.6931471805599453,
          0.6931471805599453,
          0.6931471805599453,
          0.6931471805599453,
          0.6931471805599453,
          0.6931471805599453,
          0.6931471805599453,
          0.6931471805599453,
          0.6931471805599453,
          0.6931471805599453,
          0.6931471805599453,
          0.6931471805599453,
          0.6931471805599453,
          0.6931471805599453,
          0.6931471805599453,
          0.6931471805599453,
          0.6931471805599453,
          0.6931471805599453,
          0.6931471805599453,
          0.6931471805599453
         ]
        }
       ],
       "layout": {
        "coloraxis": {
         "colorbar": {
          "ticktext": [
           "5",
           "10",
           "20",
           "40",
           "100",
           "250",
           "600",
           "1500"
          ],
          "tickvals": [
           1.791759469228055,
           2.3978952727983707,
           3.044522437723423,
           3.713572066704308,
           4.61512051684126,
           5.5254529391317835,
           6.398594934535208,
           7.313886831633462
          ],
          "title": {
           "text": "log1p_count"
          }
         },
         "colorscale": [
          [
           0,
           "#0d0887"
          ],
          [
           0.1111111111111111,
           "#46039f"
          ],
          [
           0.2222222222222222,
           "#7201a8"
          ],
          [
           0.3333333333333333,
           "#9c179e"
          ],
          [
           0.4444444444444444,
           "#bd3786"
          ],
          [
           0.5555555555555556,
           "#d8576b"
          ],
          [
           0.6666666666666666,
           "#ed7953"
          ],
          [
           0.7777777777777778,
           "#fb9f3a"
          ],
          [
           0.8888888888888888,
           "#fdca26"
          ],
          [
           1,
           "#f0f921"
          ]
         ]
        },
        "geo": {
         "center": {},
         "domain": {
          "x": [
           0,
           1
          ],
          "y": [
           0,
           1
          ]
         }
        },
        "legend": {
         "tracegroupgap": 0
        },
        "template": {
         "data": {
          "bar": [
           {
            "error_x": {
             "color": "#2a3f5f"
            },
            "error_y": {
             "color": "#2a3f5f"
            },
            "marker": {
             "line": {
              "color": "#E5ECF6",
              "width": 0.5
             },
             "pattern": {
              "fillmode": "overlay",
              "size": 10,
              "solidity": 0.2
             }
            },
            "type": "bar"
           }
          ],
          "barpolar": [
           {
            "marker": {
             "line": {
              "color": "#E5ECF6",
              "width": 0.5
             },
             "pattern": {
              "fillmode": "overlay",
              "size": 10,
              "solidity": 0.2
             }
            },
            "type": "barpolar"
           }
          ],
          "carpet": [
           {
            "aaxis": {
             "endlinecolor": "#2a3f5f",
             "gridcolor": "white",
             "linecolor": "white",
             "minorgridcolor": "white",
             "startlinecolor": "#2a3f5f"
            },
            "baxis": {
             "endlinecolor": "#2a3f5f",
             "gridcolor": "white",
             "linecolor": "white",
             "minorgridcolor": "white",
             "startlinecolor": "#2a3f5f"
            },
            "type": "carpet"
           }
          ],
          "choropleth": [
           {
            "colorbar": {
             "outlinewidth": 0,
             "ticks": ""
            },
            "type": "choropleth"
           }
          ],
          "contour": [
           {
            "colorbar": {
             "outlinewidth": 0,
             "ticks": ""
            },
            "colorscale": [
             [
              0,
              "#0d0887"
             ],
             [
              0.1111111111111111,
              "#46039f"
             ],
             [
              0.2222222222222222,
              "#7201a8"
             ],
             [
              0.3333333333333333,
              "#9c179e"
             ],
             [
              0.4444444444444444,
              "#bd3786"
             ],
             [
              0.5555555555555556,
              "#d8576b"
             ],
             [
              0.6666666666666666,
              "#ed7953"
             ],
             [
              0.7777777777777778,
              "#fb9f3a"
             ],
             [
              0.8888888888888888,
              "#fdca26"
             ],
             [
              1,
              "#f0f921"
             ]
            ],
            "type": "contour"
           }
          ],
          "contourcarpet": [
           {
            "colorbar": {
             "outlinewidth": 0,
             "ticks": ""
            },
            "type": "contourcarpet"
           }
          ],
          "heatmap": [
           {
            "colorbar": {
             "outlinewidth": 0,
             "ticks": ""
            },
            "colorscale": [
             [
              0,
              "#0d0887"
             ],
             [
              0.1111111111111111,
              "#46039f"
             ],
             [
              0.2222222222222222,
              "#7201a8"
             ],
             [
              0.3333333333333333,
              "#9c179e"
             ],
             [
              0.4444444444444444,
              "#bd3786"
             ],
             [
              0.5555555555555556,
              "#d8576b"
             ],
             [
              0.6666666666666666,
              "#ed7953"
             ],
             [
              0.7777777777777778,
              "#fb9f3a"
             ],
             [
              0.8888888888888888,
              "#fdca26"
             ],
             [
              1,
              "#f0f921"
             ]
            ],
            "type": "heatmap"
           }
          ],
          "heatmapgl": [
           {
            "colorbar": {
             "outlinewidth": 0,
             "ticks": ""
            },
            "colorscale": [
             [
              0,
              "#0d0887"
             ],
             [
              0.1111111111111111,
              "#46039f"
             ],
             [
              0.2222222222222222,
              "#7201a8"
             ],
             [
              0.3333333333333333,
              "#9c179e"
             ],
             [
              0.4444444444444444,
              "#bd3786"
             ],
             [
              0.5555555555555556,
              "#d8576b"
             ],
             [
              0.6666666666666666,
              "#ed7953"
             ],
             [
              0.7777777777777778,
              "#fb9f3a"
             ],
             [
              0.8888888888888888,
              "#fdca26"
             ],
             [
              1,
              "#f0f921"
             ]
            ],
            "type": "heatmapgl"
           }
          ],
          "histogram": [
           {
            "marker": {
             "pattern": {
              "fillmode": "overlay",
              "size": 10,
              "solidity": 0.2
             }
            },
            "type": "histogram"
           }
          ],
          "histogram2d": [
           {
            "colorbar": {
             "outlinewidth": 0,
             "ticks": ""
            },
            "colorscale": [
             [
              0,
              "#0d0887"
             ],
             [
              0.1111111111111111,
              "#46039f"
             ],
             [
              0.2222222222222222,
              "#7201a8"
             ],
             [
              0.3333333333333333,
              "#9c179e"
             ],
             [
              0.4444444444444444,
              "#bd3786"
             ],
             [
              0.5555555555555556,
              "#d8576b"
             ],
             [
              0.6666666666666666,
              "#ed7953"
             ],
             [
              0.7777777777777778,
              "#fb9f3a"
             ],
             [
              0.8888888888888888,
              "#fdca26"
             ],
             [
              1,
              "#f0f921"
             ]
            ],
            "type": "histogram2d"
           }
          ],
          "histogram2dcontour": [
           {
            "colorbar": {
             "outlinewidth": 0,
             "ticks": ""
            },
            "colorscale": [
             [
              0,
              "#0d0887"
             ],
             [
              0.1111111111111111,
              "#46039f"
             ],
             [
              0.2222222222222222,
              "#7201a8"
             ],
             [
              0.3333333333333333,
              "#9c179e"
             ],
             [
              0.4444444444444444,
              "#bd3786"
             ],
             [
              0.5555555555555556,
              "#d8576b"
             ],
             [
              0.6666666666666666,
              "#ed7953"
             ],
             [
              0.7777777777777778,
              "#fb9f3a"
             ],
             [
              0.8888888888888888,
              "#fdca26"
             ],
             [
              1,
              "#f0f921"
             ]
            ],
            "type": "histogram2dcontour"
           }
          ],
          "mesh3d": [
           {
            "colorbar": {
             "outlinewidth": 0,
             "ticks": ""
            },
            "type": "mesh3d"
           }
          ],
          "parcoords": [
           {
            "line": {
             "colorbar": {
              "outlinewidth": 0,
              "ticks": ""
             }
            },
            "type": "parcoords"
           }
          ],
          "pie": [
           {
            "automargin": true,
            "type": "pie"
           }
          ],
          "scatter": [
           {
            "fillpattern": {
             "fillmode": "overlay",
             "size": 10,
             "solidity": 0.2
            },
            "type": "scatter"
           }
          ],
          "scatter3d": [
           {
            "line": {
             "colorbar": {
              "outlinewidth": 0,
              "ticks": ""
             }
            },
            "marker": {
             "colorbar": {
              "outlinewidth": 0,
              "ticks": ""
             }
            },
            "type": "scatter3d"
           }
          ],
          "scattercarpet": [
           {
            "marker": {
             "colorbar": {
              "outlinewidth": 0,
              "ticks": ""
             }
            },
            "type": "scattercarpet"
           }
          ],
          "scattergeo": [
           {
            "marker": {
             "colorbar": {
              "outlinewidth": 0,
              "ticks": ""
             }
            },
            "type": "scattergeo"
           }
          ],
          "scattergl": [
           {
            "marker": {
             "colorbar": {
              "outlinewidth": 0,
              "ticks": ""
             }
            },
            "type": "scattergl"
           }
          ],
          "scattermapbox": [
           {
            "marker": {
             "colorbar": {
              "outlinewidth": 0,
              "ticks": ""
             }
            },
            "type": "scattermapbox"
           }
          ],
          "scatterpolar": [
           {
            "marker": {
             "colorbar": {
              "outlinewidth": 0,
              "ticks": ""
             }
            },
            "type": "scatterpolar"
           }
          ],
          "scatterpolargl": [
           {
            "marker": {
             "colorbar": {
              "outlinewidth": 0,
              "ticks": ""
             }
            },
            "type": "scatterpolargl"
           }
          ],
          "scatterternary": [
           {
            "marker": {
             "colorbar": {
              "outlinewidth": 0,
              "ticks": ""
             }
            },
            "type": "scatterternary"
           }
          ],
          "surface": [
           {
            "colorbar": {
             "outlinewidth": 0,
             "ticks": ""
            },
            "colorscale": [
             [
              0,
              "#0d0887"
             ],
             [
              0.1111111111111111,
              "#46039f"
             ],
             [
              0.2222222222222222,
              "#7201a8"
             ],
             [
              0.3333333333333333,
              "#9c179e"
             ],
             [
              0.4444444444444444,
              "#bd3786"
             ],
             [
              0.5555555555555556,
              "#d8576b"
             ],
             [
              0.6666666666666666,
              "#ed7953"
             ],
             [
              0.7777777777777778,
              "#fb9f3a"
             ],
             [
              0.8888888888888888,
              "#fdca26"
             ],
             [
              1,
              "#f0f921"
             ]
            ],
            "type": "surface"
           }
          ],
          "table": [
           {
            "cells": {
             "fill": {
              "color": "#EBF0F8"
             },
             "line": {
              "color": "white"
             }
            },
            "header": {
             "fill": {
              "color": "#C8D4E3"
             },
             "line": {
              "color": "white"
             }
            },
            "type": "table"
           }
          ]
         },
         "layout": {
          "annotationdefaults": {
           "arrowcolor": "#2a3f5f",
           "arrowhead": 0,
           "arrowwidth": 1
          },
          "autotypenumbers": "strict",
          "coloraxis": {
           "colorbar": {
            "outlinewidth": 0,
            "ticks": ""
           }
          },
          "colorscale": {
           "diverging": [
            [
             0,
             "#8e0152"
            ],
            [
             0.1,
             "#c51b7d"
            ],
            [
             0.2,
             "#de77ae"
            ],
            [
             0.3,
             "#f1b6da"
            ],
            [
             0.4,
             "#fde0ef"
            ],
            [
             0.5,
             "#f7f7f7"
            ],
            [
             0.6,
             "#e6f5d0"
            ],
            [
             0.7,
             "#b8e186"
            ],
            [
             0.8,
             "#7fbc41"
            ],
            [
             0.9,
             "#4d9221"
            ],
            [
             1,
             "#276419"
            ]
           ],
           "sequential": [
            [
             0,
             "#0d0887"
            ],
            [
             0.1111111111111111,
             "#46039f"
            ],
            [
             0.2222222222222222,
             "#7201a8"
            ],
            [
             0.3333333333333333,
             "#9c179e"
            ],
            [
             0.4444444444444444,
             "#bd3786"
            ],
            [
             0.5555555555555556,
             "#d8576b"
            ],
            [
             0.6666666666666666,
             "#ed7953"
            ],
            [
             0.7777777777777778,
             "#fb9f3a"
            ],
            [
             0.8888888888888888,
             "#fdca26"
            ],
            [
             1,
             "#f0f921"
            ]
           ],
           "sequentialminus": [
            [
             0,
             "#0d0887"
            ],
            [
             0.1111111111111111,
             "#46039f"
            ],
            [
             0.2222222222222222,
             "#7201a8"
            ],
            [
             0.3333333333333333,
             "#9c179e"
            ],
            [
             0.4444444444444444,
             "#bd3786"
            ],
            [
             0.5555555555555556,
             "#d8576b"
            ],
            [
             0.6666666666666666,
             "#ed7953"
            ],
            [
             0.7777777777777778,
             "#fb9f3a"
            ],
            [
             0.8888888888888888,
             "#fdca26"
            ],
            [
             1,
             "#f0f921"
            ]
           ]
          },
          "colorway": [
           "#636efa",
           "#EF553B",
           "#00cc96",
           "#ab63fa",
           "#FFA15A",
           "#19d3f3",
           "#FF6692",
           "#B6E880",
           "#FF97FF",
           "#FECB52"
          ],
          "font": {
           "color": "#2a3f5f"
          },
          "geo": {
           "bgcolor": "white",
           "lakecolor": "white",
           "landcolor": "#E5ECF6",
           "showlakes": true,
           "showland": true,
           "subunitcolor": "white"
          },
          "hoverlabel": {
           "align": "left"
          },
          "hovermode": "closest",
          "mapbox": {
           "style": "light"
          },
          "paper_bgcolor": "white",
          "plot_bgcolor": "#E5ECF6",
          "polar": {
           "angularaxis": {
            "gridcolor": "white",
            "linecolor": "white",
            "ticks": ""
           },
           "bgcolor": "#E5ECF6",
           "radialaxis": {
            "gridcolor": "white",
            "linecolor": "white",
            "ticks": ""
           }
          },
          "scene": {
           "xaxis": {
            "backgroundcolor": "#E5ECF6",
            "gridcolor": "white",
            "gridwidth": 2,
            "linecolor": "white",
            "showbackground": true,
            "ticks": "",
            "zerolinecolor": "white"
           },
           "yaxis": {
            "backgroundcolor": "#E5ECF6",
            "gridcolor": "white",
            "gridwidth": 2,
            "linecolor": "white",
            "showbackground": true,
            "ticks": "",
            "zerolinecolor": "white"
           },
           "zaxis": {
            "backgroundcolor": "#E5ECF6",
            "gridcolor": "white",
            "gridwidth": 2,
            "linecolor": "white",
            "showbackground": true,
            "ticks": "",
            "zerolinecolor": "white"
           }
          },
          "shapedefaults": {
           "line": {
            "color": "#2a3f5f"
           }
          },
          "ternary": {
           "aaxis": {
            "gridcolor": "white",
            "linecolor": "white",
            "ticks": ""
           },
           "baxis": {
            "gridcolor": "white",
            "linecolor": "white",
            "ticks": ""
           },
           "bgcolor": "#E5ECF6",
           "caxis": {
            "gridcolor": "white",
            "linecolor": "white",
            "ticks": ""
           }
          },
          "title": {
           "x": 0.05
          },
          "xaxis": {
           "automargin": true,
           "gridcolor": "white",
           "linecolor": "white",
           "ticks": "",
           "title": {
            "standoff": 15
           },
           "zerolinecolor": "white",
           "zerolinewidth": 2
          },
          "yaxis": {
           "automargin": true,
           "gridcolor": "white",
           "linecolor": "white",
           "ticks": "",
           "title": {
            "standoff": 15
           },
           "zerolinecolor": "white",
           "zerolinewidth": 2
          }
         }
        },
        "title": {
         "text": "Distribution of Employees Residence"
        }
       }
      }
     },
     "metadata": {},
     "output_type": "display_data"
    }
   ],
   "source": [
    "employees_residence = df4.groupby('employee_residence').size().reset_index(name='count')\n",
    "employees_residence = employees_residence.sort_values(by='count', ascending=False)\n",
    "employees_residence['log1p_count'] = np.log1p(employees_residence['count'])\n",
    "\n",
    "fig = px.choropleth(employees_residence,\n",
    "                    locations='employee_residence',\n",
    "                    color='log1p_count',\n",
    "                    hover_name='employee_residence',\n",
    "                    hover_data={'count': True, 'log1p_count': False,\n",
    "                                'employee_residence': False},\n",
    "                    title='Distribution of Employees Residence',\n",
    "                    labels={'count': 'Count of Foreign Employees'})\n",
    "\n",
    "fig.update_layout(\n",
    "    coloraxis_colorbar=dict(\n",
    "        tickvals=[np.log1p(5), np.log1p(10), np.log1p(20), np.log1p(40), np.log1p(\n",
    "            100), np.log1p(250), np.log1p(600), np.log1p(1500)], # logaritimic values\n",
    "        ticktext=['5', '10', '20', '40', '100', '250',\n",
    "                  '600', '1500'],  # text values\n",
    "    )\n",
    ")\n",
    "\n",
    "fig.show()"
   ]
  },
  {
   "cell_type": "markdown",
   "metadata": {},
   "source": [
    "### **Description:**\n",
    "This analysis visualizes the distribution of employees' residences across different countries using a Plotly choropleth map."
   ]
  },
  {
   "cell_type": "code",
   "execution_count": 25,
   "metadata": {},
   "outputs": [
    {
     "data": {
      "text/html": [
       "<div>\n",
       "<style scoped>\n",
       "    .dataframe tbody tr th:only-of-type {\n",
       "        vertical-align: middle;\n",
       "    }\n",
       "\n",
       "    .dataframe tbody tr th {\n",
       "        vertical-align: top;\n",
       "    }\n",
       "\n",
       "    .dataframe thead th {\n",
       "        text-align: right;\n",
       "    }\n",
       "</style>\n",
       "<table border=\"1\" class=\"dataframe\">\n",
       "  <thead>\n",
       "    <tr style=\"text-align: right;\">\n",
       "      <th></th>\n",
       "      <th>company_location</th>\n",
       "      <th>count</th>\n",
       "      <th>mean_salary_in_usd</th>\n",
       "    </tr>\n",
       "  </thead>\n",
       "  <tbody>\n",
       "    <tr>\n",
       "      <th>0</th>\n",
       "      <td>USA</td>\n",
       "      <td>41</td>\n",
       "      <td>75843.560976</td>\n",
       "    </tr>\n",
       "    <tr>\n",
       "      <th>1</th>\n",
       "      <td>DEU</td>\n",
       "      <td>10</td>\n",
       "      <td>55231.800000</td>\n",
       "    </tr>\n",
       "    <tr>\n",
       "      <th>2</th>\n",
       "      <td>GBR</td>\n",
       "      <td>6</td>\n",
       "      <td>78712.833333</td>\n",
       "    </tr>\n",
       "    <tr>\n",
       "      <th>3</th>\n",
       "      <td>AUS</td>\n",
       "      <td>5</td>\n",
       "      <td>74200.000000</td>\n",
       "    </tr>\n",
       "    <tr>\n",
       "      <th>4</th>\n",
       "      <td>CAN</td>\n",
       "      <td>4</td>\n",
       "      <td>86973.000000</td>\n",
       "    </tr>\n",
       "  </tbody>\n",
       "</table>\n",
       "</div>"
      ],
      "text/plain": [
       "  company_location  count  mean_salary_in_usd\n",
       "0              USA     41        75843.560976\n",
       "1              DEU     10        55231.800000\n",
       "2              GBR      6        78712.833333\n",
       "3              AUS      5        74200.000000\n",
       "4              CAN      4        86973.000000"
      ]
     },
     "execution_count": 25,
     "metadata": {},
     "output_type": "execute_result"
    }
   ],
   "source": [
    "foreign_employees = df4[df4['employee_residence'] != df4['company_location']]\n",
    "foreign_df1 = foreign_employees['company_location'].value_counts().to_frame().reset_index()\n",
    "foreign_df2 = foreign_employees.groupby('company_location')['salary_in_usd'].mean().to_frame().reset_index()\n",
    "foreign_df = pd.merge(foreign_df1, foreign_df2, on='company_location', how='inner')\n",
    "foreign_df.rename(columns={'salary_in_usd': 'mean_salary_in_usd'}, inplace=True)\n",
    "foreign_df.head(5)"
   ]
  },
  {
   "cell_type": "markdown",
   "metadata": {},
   "source": [
    "### **Description:**\n",
    "This code filters the dataset to include only foreign employees (those whose residence is different from the company location). It then calculates the count and mean salary of foreign employees for each company location and merges these results into a single DataFrame."
   ]
  },
  {
   "cell_type": "code",
   "execution_count": 26,
   "metadata": {},
   "outputs": [
    {
     "data": {
      "text/html": [
       "<div>\n",
       "<style scoped>\n",
       "    .dataframe tbody tr th:only-of-type {\n",
       "        vertical-align: middle;\n",
       "    }\n",
       "\n",
       "    .dataframe tbody tr th {\n",
       "        vertical-align: top;\n",
       "    }\n",
       "\n",
       "    .dataframe thead th {\n",
       "        text-align: right;\n",
       "    }\n",
       "</style>\n",
       "<table border=\"1\" class=\"dataframe\">\n",
       "  <thead>\n",
       "    <tr style=\"text-align: right;\">\n",
       "      <th></th>\n",
       "      <th>company_location</th>\n",
       "      <th>count</th>\n",
       "      <th>mean_salary_in_usd</th>\n",
       "    </tr>\n",
       "  </thead>\n",
       "  <tbody>\n",
       "    <tr>\n",
       "      <th>0</th>\n",
       "      <td>USA</td>\n",
       "      <td>41</td>\n",
       "      <td>75843.560976</td>\n",
       "    </tr>\n",
       "    <tr>\n",
       "      <th>1</th>\n",
       "      <td>DEU</td>\n",
       "      <td>10</td>\n",
       "      <td>55231.800000</td>\n",
       "    </tr>\n",
       "    <tr>\n",
       "      <th>2</th>\n",
       "      <td>GBR</td>\n",
       "      <td>6</td>\n",
       "      <td>78712.833333</td>\n",
       "    </tr>\n",
       "    <tr>\n",
       "      <th>3</th>\n",
       "      <td>AUS</td>\n",
       "      <td>5</td>\n",
       "      <td>74200.000000</td>\n",
       "    </tr>\n",
       "    <tr>\n",
       "      <th>4</th>\n",
       "      <td>CAN</td>\n",
       "      <td>4</td>\n",
       "      <td>86973.000000</td>\n",
       "    </tr>\n",
       "    <tr>\n",
       "      <th>29</th>\n",
       "      <td>1 foreign emp</td>\n",
       "      <td>18</td>\n",
       "      <td>64211.055556</td>\n",
       "    </tr>\n",
       "    <tr>\n",
       "      <th>30</th>\n",
       "      <td>2 foreign emp</td>\n",
       "      <td>12</td>\n",
       "      <td>46140.583333</td>\n",
       "    </tr>\n",
       "  </tbody>\n",
       "</table>\n",
       "</div>"
      ],
      "text/plain": [
       "   company_location  count  mean_salary_in_usd\n",
       "0               USA     41        75843.560976\n",
       "1               DEU     10        55231.800000\n",
       "2               GBR      6        78712.833333\n",
       "3               AUS      5        74200.000000\n",
       "4               CAN      4        86973.000000\n",
       "29    1 foreign emp     18        64211.055556\n",
       "30    2 foreign emp     12        46140.583333"
      ]
     },
     "execution_count": 26,
     "metadata": {},
     "output_type": "execute_result"
    }
   ],
   "source": [
    "count_1 = foreign_df[foreign_df['count'] == 1].sum()['count']\n",
    "count_2 = foreign_df[foreign_df['count'] == 2].sum()['count']\n",
    "\n",
    "mean_salary_1 = foreign_df[foreign_df['count'] == 1]['mean_salary_in_usd'].mean()\n",
    "mean_salary_2 = foreign_df[foreign_df['count'] == 2]['mean_salary_in_usd'].mean()\n",
    "\n",
    "row_emp = pd.DataFrame({'company_location': ['1 foreign emp', '2 foreign emp'], 'count': [\n",
    "                         count_1, count_2], 'mean_salary_in_usd': [mean_salary_1, mean_salary_2]})\n",
    "\n",
    "filtered_foreign_df = pd.concat([foreign_df, row_emp], ignore_index=True)\n",
    "filtered_foreign_df.drop(foreign_df[(foreign_df['count'] == 1) | (foreign_df['count'] == 2)].index, inplace=True)\n",
    "filtered_foreign_df"
   ]
  },
  {
   "cell_type": "markdown",
   "metadata": {},
   "source": [
    "### **Description:**\n",
    "This code calculates the total count and mean salary for company locations with exactly 1 or 2 foreign employees. It then appends these aggregated rows to the existing DataFrame and removes the original rows corresponding to the exact counts of 1 or 2."
   ]
  },
  {
   "cell_type": "markdown",
   "metadata": {},
   "source": [
    "## **Mean Salary and percentage of Foreign Employees in each Country**"
   ]
  },
  {
   "cell_type": "code",
   "execution_count": 27,
   "metadata": {},
   "outputs": [
    {
     "data": {
      "image/png": "[encoded data removed]",
      "text/plain": [
       "<Figure size 1200x500 with 2 Axes>"
      ]
     },
     "metadata": {},
     "output_type": "display_data"
    }
   ],
   "source": [
    "labels = filtered_foreign_df['company_location']\n",
    "sizes = filtered_foreign_df['count']\n",
    "salaries = filtered_foreign_df['mean_salary_in_usd']\n",
    "\n",
    "plt.figure(figsize=(12, 5))\n",
    "\n",
    "plt.subplot(1, 2, 1)\n",
    "sns.barplot(x=labels, y=salaries, palette='viridis')\n",
    "plt.xlabel('Company Location')\n",
    "plt.ylabel('Mean Salary')\n",
    "plt.title('Mean Salary of Foreign Employees in each Country')\n",
    "plt.xticks(rotation=30)\n",
    "\n",
    "plt.subplot(1, 2, 2)\n",
    "plt.pie(sizes, labels=labels, autopct='%1.1f%%', startangle=140)\n",
    "plt.title('Percentage of Foreign Employees in each Country')\n",
    "\n",
    "plt.tight_layout()\n",
    "plt.show()"
   ]
  },
  {
   "cell_type": "markdown",
   "metadata": {},
   "source": [
    "### **Description:**\n",
    "This code creates a bar plot and a pie chart. The bar plot shows the mean salary of foreign employees by company location, while the pie chart shows the percentage distribution of foreign employees across different company locations. It uses the filtered_foreign_df DataFrame created in the previous snippet.\n",
    "\n",
    "### **Result:**\n",
    "The output consists of two visualizations:\\\n",
    "`Bar Plot:` Displays the mean salary of foreign employees in each country, indicating that the highest mean salary is in the USA and the lowest is for the countries with 2 foreign employees.\\\n",
    "`Pie Chart:` Shows the percentage distribution of foreign employees in each country, highlighting that the majority of foreign employees are in the USA (42.7%), followed by other countries with smaller percentages."
   ]
  },
  {
   "cell_type": "markdown",
   "metadata": {},
   "source": []
  },
  {
   "cell_type": "code",
   "execution_count": 28,
   "metadata": {},
   "outputs": [],
   "source": [
    "def plot_salary_and_distribution(df, group_col, xlabel, bar_title, pie_title):\n",
    "    # Calculate the mean salary for each group\n",
    "    mean_salary_by_group = df.groupby(group_col)['salary_in_usd'].mean().reset_index()\n",
    "    \n",
    "    # Calculate the count of entries per group for the pie chart\n",
    "    count_by_group = df[group_col].value_counts().reset_index()\n",
    "    count_by_group.columns = [group_col, 'count']\n",
    "    \n",
    "    plt.figure(figsize=(9, 5))\n",
    "    \n",
    "    # Bar plot for average salary by group\n",
    "    plt.subplot(1, 2, 1)\n",
    "    sns.barplot(x=group_col, y='salary_in_usd', data=mean_salary_by_group, palette='viridis')\n",
    "    plt.xlabel(xlabel)\n",
    "    plt.ylabel('Average Salary in USD')\n",
    "    plt.title(bar_title)\n",
    "    plt.xticks(rotation=45)\n",
    "    \n",
    "    # Pie chart for the percentage of entries by group\n",
    "    plt.subplot(1, 2, 2)\n",
    "    plt.pie(count_by_group['count'], labels=count_by_group[group_col], autopct='%1.1f%%', startangle=140)\n",
    "    plt.title(pie_title)\n",
    "    \n",
    "    # Adjust layout\n",
    "    plt.tight_layout()\n",
    "    plt.show()"
   ]
  },
  {
   "cell_type": "markdown",
   "metadata": {},
   "source": [
    "### **Description:**\n",
    "The above function generates two visualizations for salary data: a bar plot showing the average salary by a specified group and a pie chart displaying the percentage distribution of entries for each group. The function takes a DataFrame, the column name to group by, x-axis label, bar plot title, and pie chart title as inputs. This helps in easily comparing salary trends and entry distributions within the dataset."
   ]
  },
  {
   "cell_type": "markdown",
   "metadata": {},
   "source": [
    "### **Average Salary and percentage of Entries by work year**"
   ]
  },
  {
   "cell_type": "code",
   "execution_count": 29,
   "metadata": {},
   "outputs": [
    {
     "data": {
      "image/png": "[encoded data removed]",
      "text/plain": [
       "<Figure size 900x500 with 2 Axes>"
      ]
     },
     "metadata": {},
     "output_type": "display_data"
    }
   ],
   "source": [
    "plot_salary_and_distribution(\n",
    "    df=df4,\n",
    "    group_col='work_year',\n",
    "    xlabel='Work Year',\n",
    "    bar_title='Average Salary by Work Year',\n",
    "    pie_title='Percentage of Entries by Work Year'\n",
    ")"
   ]
  },
  {
   "cell_type": "markdown",
   "metadata": {},
   "source": [
    "### **Description:**\n",
    "This vizulization create two charts:\\\n",
    "`Bar chart:` Showing the Average salary of people who have been worked in 2020 to 2023. The x-axis is the year, and the y-axis is the average salary.\\\n",
    "`Pie chart:` Showing the percentage of Entries from 2020 to 2023.\n",
    "\n",
    "### **Result:**\n",
    "The highest Average Salary is in 2023.\\\n",
    "The highest percentage of Entries is in 2023 (44.7%)."
   ]
  },
  {
   "cell_type": "markdown",
   "metadata": {},
   "source": [
    "### **Average salary by Experience level**"
   ]
  },
  {
   "cell_type": "code",
   "execution_count": 30,
   "metadata": {},
   "outputs": [
    {
     "data": {
      "image/png": "[encoded data removed]",
      "text/plain": [
       "<Figure size 900x500 with 2 Axes>"
      ]
     },
     "metadata": {},
     "output_type": "display_data"
    }
   ],
   "source": [
    "plot_salary_and_distribution(\n",
    "    df=df4,\n",
    "    group_col='experience_level',\n",
    "    xlabel='Experience Level',\n",
    "    bar_title='Average Salary by Experience Level',\n",
    "    pie_title='Percentage of Entries by Experience Level'\n",
    ")"
   ]
  },
  {
   "cell_type": "markdown",
   "metadata": {},
   "source": [
    "### **Description:**\n",
    "This vizulization create two charts:\\\n",
    "`Bar chart:` Showing the Average salary of people who have been worked by their Experience level like `excutive`,`junior`,`Middle`,`Senior`. The x-axis is the Experience level, and the y-axis is the average salary.\\\n",
    "`Pie chart:` Showing the percentage of Entries from by Experience level.\n",
    "### **Result:**\n",
    "In the bar chart, the Average salary of Excutive is the highest, and the average salary of Junior is the lowest.\\\n",
    "In the pie chart, the percentage of Entries of Senior is 60.1% is highest and the lowest is for Excutive 3.7%."
   ]
  },
  {
   "cell_type": "markdown",
   "metadata": {},
   "source": [
    "### **Average Salary by Remote ratio**"
   ]
  },
  {
   "cell_type": "code",
   "execution_count": 31,
   "metadata": {},
   "outputs": [
    {
     "data": {
      "image/png": "[encoded data removed]",
      "text/plain": [
       "<Figure size 900x500 with 2 Axes>"
      ]
     },
     "metadata": {},
     "output_type": "display_data"
    }
   ],
   "source": [
    "plot_salary_and_distribution(\n",
    "    df=df4,\n",
    "    group_col='remote_ratio',\n",
    "    xlabel='Remote Ratio',\n",
    "    bar_title='Average Salary by Remote Ratio',\n",
    "    pie_title='Percentage of Entries by Remote Ratio'\n",
    ")"
   ]
  },
  {
   "cell_type": "markdown",
   "metadata": {},
   "source": [
    "### **Description:**\n",
    "In this section, we utilize the plot_salary_and_distribution function to analyze and visualize the relationship between remote work arrangements and salary data, as well as the distribution of different remote work categories in our dataset.\n",
    "### **Result:**\n",
    "The generated visualization includes two plots:\\\n",
    "`Bar Plot:` Shows the average salary (in USD) for each remote work category (Full Remote, Half Remote, Not Remote). Indicates that Full Remote positions tend to have a higher average salary compared to Half Remote and Not Remote positions.\\\n",
    "`Pie Chart:`Displays the percentage distribution of entries across the different remote work categories. Reveals that the dataset is almost equally split between Full Remote (46.9%) and Not Remote (45.9%) positions, with a smaller proportion of Half Remote positions (7.2%)."
   ]
  },
  {
   "cell_type": "markdown",
   "metadata": {},
   "source": [
    "### **Employment Type vs Remote ratio**"
   ]
  },
  {
   "cell_type": "code",
   "execution_count": 41,
   "metadata": {},
   "outputs": [
    {
     "data": {
      "image/png": "[encoded data removed]",
      "text/plain": [
       "<Figure size 800x400 with 1 Axes>"
      ]
     },
     "metadata": {},
     "output_type": "display_data"
    }
   ],
   "source": [
    "plt.figure(figsize=(8, 4))\n",
    "ax = sns.countplot(data=df4, x='employment_type', hue='remote_ratio')\n",
    "ax.set_title('Employment type VS Remote ratio', fontdict={'fontsize': 16});"
   ]
  },
  {
   "cell_type": "markdown",
   "metadata": {},
   "source": [
    "### **Description:**\n",
    "This code creates a count plot to visualize the relationship between employment type and remote work ratio.\n",
    "\n",
    "### **Result:**\n",
    "The output is a count plot that shows the distribution of employment types and their respective remote work ratios. Each bar represents the count of each employment type, with different colors indicating the remote ratio categories (`'Full Remote'`, `'Not Remote'`, `'Half Remote'`).\\\n",
    "The majority of `'Full Time'` positions are either `'Full Remote'` or `'Not Remote'`, with a smaller proportion being `'Half Remote'`.\\\n",
    "`'Contract'`, `'Freelance'`, and `'Part Time'` positions are almost negligible in the dataset compared to `'Full Time'` positions."
   ]
  },
  {
   "cell_type": "markdown",
   "metadata": {},
   "source": [
    "### **Average Salary by Company Size**"
   ]
  },
  {
   "cell_type": "code",
   "execution_count": 32,
   "metadata": {},
   "outputs": [
    {
     "data": {
      "image/png": "[encoded data removed]",
      "text/plain": [
       "<Figure size 900x500 with 2 Axes>"
      ]
     },
     "metadata": {},
     "output_type": "display_data"
    }
   ],
   "source": [
    "plot_salary_and_distribution(\n",
    "    df=df4,\n",
    "    group_col='company_size',\n",
    "    xlabel='Company Size',\n",
    "    bar_title='Average Salary by Company Size',\n",
    "    pie_title='Percentage of Entries by Company Size'\n",
    ")"
   ]
  },
  {
   "cell_type": "markdown",
   "metadata": {},
   "source": [
    "### **Description:**\n",
    "In this section, we use the plot_salary_and_distribution function to analyze and visualize the relationship between company size and salary data, as well as the distribution of different company sizes in our dataset.\n",
    "### **Result:**\n",
    "This generated vizulation shows that:\\\n",
    "`Bar Plot:`Shows the average salary (in USD) for each company size category (Large, Medium, Small). Indicates that Medium companies tend to offer the highest average salaries, followed by Large companies, with Small companies offering the lowest average salaries.\\\n",
    "`Pie Chart:`Displays the percentage distribution of entries across the different company size categories. Reveals that a significant majority of the dataset entries are from Medium companies (78.5%), followed by Large companies (15.8%), and a smaller proportion from Small companies (5.7%)."
   ]
  },
  {
   "cell_type": "markdown",
   "metadata": {},
   "source": [
    "### **Top 10 job titles based on Average salary**"
   ]
  },
  {
   "cell_type": "code",
   "execution_count": 38,
   "metadata": {},
   "outputs": [
    {
     "data": {
      "text/html": [
       "<div>\n",
       "<style scoped>\n",
       "    .dataframe tbody tr th:only-of-type {\n",
       "        vertical-align: middle;\n",
       "    }\n",
       "\n",
       "    .dataframe tbody tr th {\n",
       "        vertical-align: top;\n",
       "    }\n",
       "\n",
       "    .dataframe thead th {\n",
       "        text-align: right;\n",
       "    }\n",
       "</style>\n",
       "<table border=\"1\" class=\"dataframe\">\n",
       "  <thead>\n",
       "    <tr style=\"text-align: right;\">\n",
       "      <th></th>\n",
       "      <th>job_title</th>\n",
       "      <th>salary_in_usd</th>\n",
       "    </tr>\n",
       "  </thead>\n",
       "  <tbody>\n",
       "    <tr>\n",
       "      <th>0</th>\n",
       "      <td>Data Science Tech Lead</td>\n",
       "      <td>375000.000</td>\n",
       "    </tr>\n",
       "    <tr>\n",
       "      <th>1</th>\n",
       "      <td>Cloud Data Architect</td>\n",
       "      <td>250000.000</td>\n",
       "    </tr>\n",
       "    <tr>\n",
       "      <th>2</th>\n",
       "      <td>Data Lead</td>\n",
       "      <td>212500.000</td>\n",
       "    </tr>\n",
       "    <tr>\n",
       "      <th>3</th>\n",
       "      <td>Data Analytics Lead</td>\n",
       "      <td>211254.500</td>\n",
       "    </tr>\n",
       "    <tr>\n",
       "      <th>4</th>\n",
       "      <td>Principal Data Scientist</td>\n",
       "      <td>198171.125</td>\n",
       "    </tr>\n",
       "  </tbody>\n",
       "</table>\n",
       "</div>"
      ],
      "text/plain": [
       "                  job_title  salary_in_usd\n",
       "0    Data Science Tech Lead     375000.000\n",
       "1      Cloud Data Architect     250000.000\n",
       "2                 Data Lead     212500.000\n",
       "3       Data Analytics Lead     211254.500\n",
       "4  Principal Data Scientist     198171.125"
      ]
     },
     "execution_count": 38,
     "metadata": {},
     "output_type": "execute_result"
    }
   ],
   "source": [
    "mean_salary_by_job = df4.groupby('job_title')['salary_in_usd'].mean().reset_index()\n",
    "sorted_mean_salary_by_job = mean_salary_by_job.sort_values(by='salary_in_usd', ascending=False).reset_index().drop('index', axis=1)\n",
    "sorted_mean_salary_by_job.head()"
   ]
  },
  {
   "cell_type": "markdown",
   "metadata": {},
   "source": [
    "### **Description:**\n",
    "This code calculates the mean salary for each job title and sorts the job titles based on their mean salaries in descending order.\\\n",
    "The output is a DataFrame (sorted_mean_salary_by_job) that lists job titles along with their corresponding mean salaries, sorted from highest to lowest. The top job title based on average salary is 'Data Science Tech Lead' with an average salary of $375,000, followed by 'Cloud Data Architect' with $250,000, and so on."
   ]
  },
  {
   "cell_type": "code",
   "execution_count": 39,
   "metadata": {},
   "outputs": [
    {
     "data": {
      "image/png": "[encoded data removed]",
      "text/plain": [
       "<Figure size 1000x600 with 1 Axes>"
      ]
     },
     "metadata": {},
     "output_type": "display_data"
    }
   ],
   "source": [
    "#top 10 job titles based on Aveage salary\n",
    "top_10_job_titles = df4.groupby('job_title')['salary_in_usd'].mean().nlargest(10).index\n",
    "\n",
    "filtered_df = df4[df4['job_title'].isin(top_10_job_titles)]\n",
    "\n",
    "plt.figure(figsize=(10, 6))\n",
    "sns.scatterplot(data=filtered_df, x='salary_in_usd', y='job_title', hue='job_title', palette='viridis', s=100)\n",
    "\n",
    "plt.xlabel('Salary in USD')\n",
    "plt.ylabel('Job Title')\n",
    "plt.title('Top 10 Job Titles Based on Average Salary')\n",
    "plt.legend(title='Job Title', bbox_to_anchor=(1.05, 1), loc='upper left')\n",
    "\n",
    "plt.tight_layout()\n",
    "plt.grid()\n",
    "plt.show()"
   ]
  },
  {
   "cell_type": "markdown",
   "metadata": {},
   "source": [
    "### **Description:**\n",
    "This code creates a scatter plot to visualize the top 10 job titles based on average salary.\n",
    "\n",
    "### **Result:**\n",
    "The output is a scatter plot that shows the distribution of salaries for the top 10 job titles based on average salary. Each dot represents an individual salary for a particular job title, allowing us to see the range and distribution of salaries for these top-paying job titles.\\\n",
    "The scatter plot visually demonstrates the salary ranges for the top 10 job titles, making it easy to compare their average salaries. For instance, the plot shows that 'Principal Data Scientist' has a wide range of salaries, with many salaries clustering around $200,000 to $300,000."
   ]
  },
  {
   "cell_type": "markdown",
   "metadata": {},
   "source": [
    "### **Top 10 most Frequent Jobs based on Average Salary**"
   ]
  },
  {
   "cell_type": "code",
   "execution_count": 40,
   "metadata": {},
   "outputs": [
    {
     "data": {
      "image/png": "[encoded data removed]",
      "text/plain": [
       "<Figure size 1000x600 with 1 Axes>"
      ]
     },
     "metadata": {},
     "output_type": "display_data"
    }
   ],
   "source": [
    "#top 10 most frequent jobs based on average Salary\n",
    "top_10_frequent_job_titles = df4['job_title'].value_counts().nlargest(10).index\n",
    "\n",
    "filtered_df = df4[df4['job_title'].isin(top_10_frequent_job_titles)]\n",
    "\n",
    "plt.figure(figsize=(10, 6))\n",
    "sns.scatterplot(data=filtered_df, x='salary_in_usd',\n",
    "                y='job_title', hue='job_title', palette='viridis', s=100)\n",
    "\n",
    "plt.xlabel('Salary in USD')\n",
    "plt.ylabel('Job Title')\n",
    "plt.title('Top 10 Most Frequent Job Titles Based on Salary')\n",
    "plt.legend(title='Job Title', bbox_to_anchor=(1.05, 1), loc='upper left')\n",
    "\n",
    "plt.tight_layout()\n",
    "plt.show()"
   ]
  },
  {
   "cell_type": "markdown",
   "metadata": {},
   "source": [
    "### **Description:**\n",
    "This code creates a scatter plot to visualize the salaries of the top 10 most frequent job titles in the dataset.\n",
    "\n",
    "### **Result:**\n",
    "The output is a scatter plot that shows the distribution of salaries for the top 10 most frequent job titles. Each dot represents an individual salary for a particular job title, allowing us to see the range and distribution of salaries for these frequently occurring job titles.\\\n",
    "The scatter plot visually demonstrates the salary ranges for the top 10 most frequent job titles, making it easy to compare their salary distributions. For instance, the plot shows that 'ML Engineer' and 'Data Scientist' have a wide range of salaries with many data points, indicating their high frequency in the dataset."
   ]
  },
  {
   "cell_type": "markdown",
   "metadata": {},
   "source": [
    "# **Conclusion**\n",
    "---\n",
    "In conclusion, our analysis of the 'data science salaries 2023' dataset,we observed that salaries significantly vary based on experience, job title, and geographic location. Specifically, data scientists who possess advanced skills and have accumulated more years of experience tend to earn higher salaries. Notably, machine learning engineers emerged as the highest earners among the various roles analyzed, indicating a strong demand for expertise in this area.\n",
    "\n",
    "Our use of visualizations, such as box plots and scatter plots, played a crucial role in elucidating these trends. For instance, the box plots effectively illustrated the salary distributions across different job titles, allowing us to see the disparities clearly. This visual representation helped us understand not just average salaries but also the range and spread of salaries within each role.\n",
    "\n",
    "However, it is important to acknowledge the limitations of our analysis. The dataset may not provide a comprehensive view of the entire industry, potentially introducing biases that could affect our findings. Factors such as regional salary variations and the representation of different job titles should be considered when interpreting the results.\n",
    "\n",
    "Given these insights, we recommend that companies focus on offering competitive salaries to attract and retain talented professionals in the data science field. As the market continues to evolve, staying informed about salary dynamics will be essential for organizations aiming to maintain a competitive edge.\n",
    "\n",
    "Finally, we suggest avenues for future research to deepen our understanding of salary dynamics. This could include analyzing trends over time or investigating how emerging technologies impact salary structures within the industry.\n",
    "\n",
    "---\n"
   ]
  },
  {
   "cell_type": "markdown",
   "metadata": {},
   "source": [
    "# **Good luck** \n",
    "---\n",
    "\n",
    "## **EDA BY**: `Muhammad Abdur Rehman`"
   ]
  }
 ],
 "metadata": {
  "kernelspec": {
   "display_name": "base",
   "language": "python",
   "name": "python3"
  },
  "language_info": {
   "codemirror_mode": {
    "name": "ipython",
    "version": 3
   },
   "file_extension": ".py",
   "mimetype": "text/x-python",
   "name": "python",
   "nbconvert_exporter": "python",
   "pygments_lexer": "ipython3",
   "version": "3.12.3"
  }
 },
 "nbformat": 4,
 "nbformat_minor": 2
}
